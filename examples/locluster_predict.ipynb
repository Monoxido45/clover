{
 "cells": [
  {
   "cell_type": "markdown",
   "id": "cb9e8b7b-8dd8-4ef8-8c87-18e34d82e006",
   "metadata": {},
   "source": [
    "# Locluster predictions"
   ]
  },
  {
   "cell_type": "markdown",
   "id": "50e7e624-8ec0-47d2-ad91-fb0eb58f9b65",
   "metadata": {},
   "source": [
    "## Generate data"
   ]
  },
  {
   "cell_type": "code",
   "execution_count": 1,
   "id": "0099b722-8201-4a65-9e79-928512e502e7",
   "metadata": {},
   "outputs": [],
   "source": [
    "import os\n",
    "import numpy as np\n",
    "from sklearn.model_selection import train_test_split"
   ]
  },
  {
   "cell_type": "code",
   "execution_count": 2,
   "id": "6ccf6bf8-7a1a-4116-88d7-505dbfda43ab",
   "metadata": {},
   "outputs": [],
   "source": [
    "os.chdir(\"../results/\")"
   ]
  },
  {
   "cell_type": "code",
   "execution_count": 3,
   "id": "82281f2b-78ce-4591-b187-4955866cd06f",
   "metadata": {},
   "outputs": [],
   "source": [
    "from simulation import simulation"
   ]
  },
  {
   "cell_type": "code",
   "execution_count": 4,
   "id": "54b35557-fd52-496f-9a35-c79688df9af7",
   "metadata": {},
   "outputs": [],
   "source": [
    "sim = simulation(coef=2)\n",
    "sim.homoscedastic(n=2 * 10**3, random_seed=0)"
   ]
  },
  {
   "cell_type": "code",
   "execution_count": 5,
   "id": "abf78402-5151-47db-b770-038c2629e05f",
   "metadata": {},
   "outputs": [],
   "source": [
    "X_train, X_calib, y_train, y_calib = train_test_split(sim.X, sim.y, test_size=10 ** 3)"
   ]
  },
  {
   "cell_type": "code",
   "execution_count": 6,
   "id": "b230974d-ccc0-4fc4-b6dd-f0dc7389c6fd",
   "metadata": {},
   "outputs": [],
   "source": [
    "rng = np.random.RandomState(0)"
   ]
  },
  {
   "cell_type": "code",
   "execution_count": 7,
   "id": "03adf6de-e03d-4ee7-bc04-cd499f02451e",
   "metadata": {},
   "outputs": [],
   "source": [
    "test_size = 5 * 10**3\n",
    "X_test = rng.uniform(-1.5, 1.5, size=(test_size, sim.dim))"
   ]
  },
  {
   "cell_type": "code",
   "execution_count": 8,
   "id": "0c464e4c-8685-4145-9cd7-433989d47e41",
   "metadata": {},
   "outputs": [],
   "source": [
    "n_y = 10 ** 3\n",
    "y_test = sim.homoscedastic_r(X_test[:, 0], B=n_y)"
   ]
  },
  {
   "cell_type": "markdown",
   "id": "212e2507-a113-4d94-988f-57de92f639fc",
   "metadata": {},
   "source": [
    "## Utils"
   ]
  },
  {
   "cell_type": "code",
   "execution_count": 9,
   "id": "38933451-4ddb-4f2f-933b-1000562673ee",
   "metadata": {},
   "outputs": [],
   "source": [
    "def coverage_fraction(y, y_low, y_high):\n",
    "    return np.mean(np.logical_and(y >= y_low, y <= y_high))"
   ]
  },
  {
   "cell_type": "markdown",
   "id": "610290af-132a-4077-a1f3-d2e413cf3fb9",
   "metadata": {},
   "source": [
    "## Model"
   ]
  },
  {
   "cell_type": "code",
   "execution_count": 10,
   "id": "07c4afa4-5690-4230-841a-46acd5571052",
   "metadata": {},
   "outputs": [],
   "source": [
    "from lcv.locluster import KmeansSplit\n",
    "from lcv.models import QuantileGradientBoosting\n",
    "from lcv.scores import QuantileScore"
   ]
  },
  {
   "cell_type": "code",
   "execution_count": 11,
   "id": "3e54c85f-8767-4ccc-a5a3-c0dc7c0a54dd",
   "metadata": {},
   "outputs": [],
   "source": [
    "locluster = KmeansSplit(QuantileScore, QuantileGradientBoosting, alpha=0.05)"
   ]
  },
  {
   "cell_type": "code",
   "execution_count": 12,
   "id": "d2389ca2-4256-4546-9e9f-96bd2aede38c",
   "metadata": {},
   "outputs": [
    {
     "data": {
      "text/html": [
       "<style>#sk-container-id-1 {color: black;background-color: white;}#sk-container-id-1 pre{padding: 0;}#sk-container-id-1 div.sk-toggleable {background-color: white;}#sk-container-id-1 label.sk-toggleable__label {cursor: pointer;display: block;width: 100%;margin-bottom: 0;padding: 0.3em;box-sizing: border-box;text-align: center;}#sk-container-id-1 label.sk-toggleable__label-arrow:before {content: \"▸\";float: left;margin-right: 0.25em;color: #696969;}#sk-container-id-1 label.sk-toggleable__label-arrow:hover:before {color: black;}#sk-container-id-1 div.sk-estimator:hover label.sk-toggleable__label-arrow:before {color: black;}#sk-container-id-1 div.sk-toggleable__content {max-height: 0;max-width: 0;overflow: hidden;text-align: left;background-color: #f0f8ff;}#sk-container-id-1 div.sk-toggleable__content pre {margin: 0.2em;color: black;border-radius: 0.25em;background-color: #f0f8ff;}#sk-container-id-1 input.sk-toggleable__control:checked~div.sk-toggleable__content {max-height: 200px;max-width: 100%;overflow: auto;}#sk-container-id-1 input.sk-toggleable__control:checked~label.sk-toggleable__label-arrow:before {content: \"▾\";}#sk-container-id-1 div.sk-estimator input.sk-toggleable__control:checked~label.sk-toggleable__label {background-color: #d4ebff;}#sk-container-id-1 div.sk-label input.sk-toggleable__control:checked~label.sk-toggleable__label {background-color: #d4ebff;}#sk-container-id-1 input.sk-hidden--visually {border: 0;clip: rect(1px 1px 1px 1px);clip: rect(1px, 1px, 1px, 1px);height: 1px;margin: -1px;overflow: hidden;padding: 0;position: absolute;width: 1px;}#sk-container-id-1 div.sk-estimator {font-family: monospace;background-color: #f0f8ff;border: 1px dotted black;border-radius: 0.25em;box-sizing: border-box;margin-bottom: 0.5em;}#sk-container-id-1 div.sk-estimator:hover {background-color: #d4ebff;}#sk-container-id-1 div.sk-parallel-item::after {content: \"\";width: 100%;border-bottom: 1px solid gray;flex-grow: 1;}#sk-container-id-1 div.sk-label:hover label.sk-toggleable__label {background-color: #d4ebff;}#sk-container-id-1 div.sk-serial::before {content: \"\";position: absolute;border-left: 1px solid gray;box-sizing: border-box;top: 0;bottom: 0;left: 50%;z-index: 0;}#sk-container-id-1 div.sk-serial {display: flex;flex-direction: column;align-items: center;background-color: white;padding-right: 0.2em;padding-left: 0.2em;position: relative;}#sk-container-id-1 div.sk-item {position: relative;z-index: 1;}#sk-container-id-1 div.sk-parallel {display: flex;align-items: stretch;justify-content: center;background-color: white;position: relative;}#sk-container-id-1 div.sk-item::before, #sk-container-id-1 div.sk-parallel-item::before {content: \"\";position: absolute;border-left: 1px solid gray;box-sizing: border-box;top: 0;bottom: 0;left: 50%;z-index: -1;}#sk-container-id-1 div.sk-parallel-item {display: flex;flex-direction: column;z-index: 1;position: relative;background-color: white;}#sk-container-id-1 div.sk-parallel-item:first-child::after {align-self: flex-end;width: 50%;}#sk-container-id-1 div.sk-parallel-item:last-child::after {align-self: flex-start;width: 50%;}#sk-container-id-1 div.sk-parallel-item:only-child::after {width: 0;}#sk-container-id-1 div.sk-dashed-wrapped {border: 1px dashed gray;margin: 0 0.4em 0.5em 0.4em;box-sizing: border-box;padding-bottom: 0.4em;background-color: white;}#sk-container-id-1 div.sk-label label {font-family: monospace;font-weight: bold;display: inline-block;line-height: 1.2em;}#sk-container-id-1 div.sk-label-container {text-align: center;}#sk-container-id-1 div.sk-container {/* jupyter's `normalize.less` sets `[hidden] { display: none; }` but bootstrap.min.css set `[hidden] { display: none !important; }` so we also need the `!important` here to be able to override the default hidden behavior on the sphinx rendered scikit-learn.org. See: https://github.com/scikit-learn/scikit-learn/issues/21755 */display: inline-block !important;position: relative;}#sk-container-id-1 div.sk-text-repr-fallback {display: none;}</style><div id=\"sk-container-id-1\" class=\"sk-top-container\"><div class=\"sk-text-repr-fallback\"><pre>KmeansSplit(alpha=0.05, base_model=QuantileGradientBoosting(),\n",
       "            nc_score=&lt;lcv.scores.QuantileScore object at 0x7f6697b0fe50&gt;)</pre><b>In a Jupyter environment, please rerun this cell to show the HTML representation or trust the notebook. <br />On GitHub, the HTML representation is unable to render, please try loading this page with nbviewer.org.</b></div><div class=\"sk-container\" hidden><div class=\"sk-item sk-dashed-wrapped\"><div class=\"sk-label-container\"><div class=\"sk-label sk-toggleable\"><input class=\"sk-toggleable__control sk-hidden--visually\" id=\"sk-estimator-id-1\" type=\"checkbox\" ><label for=\"sk-estimator-id-1\" class=\"sk-toggleable__label sk-toggleable__label-arrow\">KmeansSplit</label><div class=\"sk-toggleable__content\"><pre>KmeansSplit(alpha=0.05, base_model=QuantileGradientBoosting(),\n",
       "            nc_score=&lt;lcv.scores.QuantileScore object at 0x7f6697b0fe50&gt;)</pre></div></div></div><div class=\"sk-parallel\"><div class=\"sk-parallel-item\"><div class=\"sk-item\"><div class=\"sk-label-container\"><div class=\"sk-label sk-toggleable\"><input class=\"sk-toggleable__control sk-hidden--visually\" id=\"sk-estimator-id-2\" type=\"checkbox\" ><label for=\"sk-estimator-id-2\" class=\"sk-toggleable__label sk-toggleable__label-arrow\">base_model: QuantileGradientBoosting</label><div class=\"sk-toggleable__content\"><pre>QuantileGradientBoosting()</pre></div></div></div><div class=\"sk-serial\"><div class=\"sk-item\"><div class=\"sk-estimator sk-toggleable\"><input class=\"sk-toggleable__control sk-hidden--visually\" id=\"sk-estimator-id-3\" type=\"checkbox\" ><label for=\"sk-estimator-id-3\" class=\"sk-toggleable__label sk-toggleable__label-arrow\">QuantileGradientBoosting</label><div class=\"sk-toggleable__content\"><pre>QuantileGradientBoosting()</pre></div></div></div></div></div></div></div></div></div></div>"
      ],
      "text/plain": [
       "KmeansSplit(alpha=0.05, base_model=QuantileGradientBoosting(),\n",
       "            nc_score=<lcv.scores.QuantileScore object at 0x7f6697b0fe50>)"
      ]
     },
     "execution_count": 12,
     "metadata": {},
     "output_type": "execute_result"
    }
   ],
   "source": [
    "locluster.fit(X_train, y_train)"
   ]
  },
  {
   "cell_type": "markdown",
   "id": "e36e785e-fa5d-4cfd-98c2-0f5d4d94a977",
   "metadata": {},
   "source": [
    "## Calibration (explicit)"
   ]
  },
  {
   "cell_type": "code",
   "execution_count": 13,
   "id": "2b3ce6c6-aa34-4780-ad77-87e2f997b7ef",
   "metadata": {},
   "outputs": [],
   "source": [
    "from sklearn.preprocessing import StandardScaler\n",
    "from lcv.locluster import GradientBoostingQuantileEnsemble"
   ]
  },
  {
   "cell_type": "code",
   "execution_count": 14,
   "id": "749606bc-504b-487c-9079-cf43cdc3df3b",
   "metadata": {},
   "outputs": [],
   "source": [
    "scores = locluster.nc_score.compute(X_calib, y_calib)"
   ]
  },
  {
   "cell_type": "code",
   "execution_count": 15,
   "id": "3d032e0e-d81b-44fa-825d-85b25dfc68c0",
   "metadata": {},
   "outputs": [],
   "source": [
    "locluster.update_limits(np.min(y_calib), np.max(y_calib))"
   ]
  },
  {
   "cell_type": "code",
   "execution_count": 16,
   "id": "699dae46-f0fd-4f22-97a9-c04150f34d73",
   "metadata": {},
   "outputs": [],
   "source": [
    "X_train, X_val, res_train, res_val = train_test_split(X_calib, scores, test_size=0.5,\n",
    "                                                  random_state=rng)"
   ]
  },
  {
   "cell_type": "code",
   "execution_count": 17,
   "id": "aacf3fe6-2b1e-4a1e-91b2-89ffd22d9d3f",
   "metadata": {},
   "outputs": [],
   "source": [
    "qmodel = GradientBoostingQuantileEnsemble()"
   ]
  },
  {
   "cell_type": "code",
   "execution_count": 18,
   "id": "4e88c86f-fa30-44a6-a6bf-f6d4b6fe10ae",
   "metadata": {},
   "outputs": [],
   "source": [
    "qmodel.fit(X_train, res_train); # problems here"
   ]
  },
  {
   "cell_type": "code",
   "execution_count": 19,
   "id": "21dca7d0-b6f2-4145-bb5e-d79180fb7416",
   "metadata": {},
   "outputs": [],
   "source": [
    "train_pred = qmodel.predict(X_train)\n",
    "val_pred = qmodel.predict(X_val)"
   ]
  },
  {
   "cell_type": "code",
   "execution_count": 20,
   "id": "13cce4e8-2b52-4b5d-87be-a1e129110cf5",
   "metadata": {},
   "outputs": [],
   "source": [
    "scaler = StandardScaler()"
   ]
  },
  {
   "cell_type": "code",
   "execution_count": 21,
   "id": "6168a948-5840-456b-af94-1803bb1ebfcb",
   "metadata": {},
   "outputs": [],
   "source": [
    "new_X = scaler.fit_transform(train_pred)\n",
    "new_X_val = scaler.transform(val_pred)"
   ]
  },
  {
   "cell_type": "code",
   "execution_count": 22,
   "id": "cc149b8d-aa36-401c-972e-b15f83189ef1",
   "metadata": {},
   "outputs": [],
   "source": [
    "current_sil = -1.0"
   ]
  },
  {
   "cell_type": "code",
   "execution_count": 23,
   "id": "89bd2663-2252-4d96-a217-024bae136969",
   "metadata": {},
   "outputs": [],
   "source": [
    "from sklearn.metrics import silhouette_score\n",
    "from sklearn.cluster import KMeans"
   ]
  },
  {
   "cell_type": "code",
   "execution_count": 24,
   "id": "407a94fe-9059-45ef-93e5-97ac6dfb1e4a",
   "metadata": {},
   "outputs": [],
   "source": [
    "current_sil = -1.0\n",
    "for k in np.arange(2, 11):\n",
    "    model = KMeans(n_clusters=k, random_state=rng, n_init=30)\n",
    "    model.fit(new_X_val)\n",
    "    labels = model.labels_\n",
    "    new_sil = silhouette_score(new_X, labels, metric=\"euclidean\")\n",
    "    if new_sil > current_sil:\n",
    "        current_sil = new_sil\n",
    "        best_model = model"
   ]
  },
  {
   "cell_type": "code",
   "execution_count": 25,
   "id": "f23e9e6e-2e40-483b-86ba-fc7f98c8b5bc",
   "metadata": {},
   "outputs": [
    {
     "data": {
      "text/html": [
       "<style>#sk-container-id-2 {color: black;background-color: white;}#sk-container-id-2 pre{padding: 0;}#sk-container-id-2 div.sk-toggleable {background-color: white;}#sk-container-id-2 label.sk-toggleable__label {cursor: pointer;display: block;width: 100%;margin-bottom: 0;padding: 0.3em;box-sizing: border-box;text-align: center;}#sk-container-id-2 label.sk-toggleable__label-arrow:before {content: \"▸\";float: left;margin-right: 0.25em;color: #696969;}#sk-container-id-2 label.sk-toggleable__label-arrow:hover:before {color: black;}#sk-container-id-2 div.sk-estimator:hover label.sk-toggleable__label-arrow:before {color: black;}#sk-container-id-2 div.sk-toggleable__content {max-height: 0;max-width: 0;overflow: hidden;text-align: left;background-color: #f0f8ff;}#sk-container-id-2 div.sk-toggleable__content pre {margin: 0.2em;color: black;border-radius: 0.25em;background-color: #f0f8ff;}#sk-container-id-2 input.sk-toggleable__control:checked~div.sk-toggleable__content {max-height: 200px;max-width: 100%;overflow: auto;}#sk-container-id-2 input.sk-toggleable__control:checked~label.sk-toggleable__label-arrow:before {content: \"▾\";}#sk-container-id-2 div.sk-estimator input.sk-toggleable__control:checked~label.sk-toggleable__label {background-color: #d4ebff;}#sk-container-id-2 div.sk-label input.sk-toggleable__control:checked~label.sk-toggleable__label {background-color: #d4ebff;}#sk-container-id-2 input.sk-hidden--visually {border: 0;clip: rect(1px 1px 1px 1px);clip: rect(1px, 1px, 1px, 1px);height: 1px;margin: -1px;overflow: hidden;padding: 0;position: absolute;width: 1px;}#sk-container-id-2 div.sk-estimator {font-family: monospace;background-color: #f0f8ff;border: 1px dotted black;border-radius: 0.25em;box-sizing: border-box;margin-bottom: 0.5em;}#sk-container-id-2 div.sk-estimator:hover {background-color: #d4ebff;}#sk-container-id-2 div.sk-parallel-item::after {content: \"\";width: 100%;border-bottom: 1px solid gray;flex-grow: 1;}#sk-container-id-2 div.sk-label:hover label.sk-toggleable__label {background-color: #d4ebff;}#sk-container-id-2 div.sk-serial::before {content: \"\";position: absolute;border-left: 1px solid gray;box-sizing: border-box;top: 0;bottom: 0;left: 50%;z-index: 0;}#sk-container-id-2 div.sk-serial {display: flex;flex-direction: column;align-items: center;background-color: white;padding-right: 0.2em;padding-left: 0.2em;position: relative;}#sk-container-id-2 div.sk-item {position: relative;z-index: 1;}#sk-container-id-2 div.sk-parallel {display: flex;align-items: stretch;justify-content: center;background-color: white;position: relative;}#sk-container-id-2 div.sk-item::before, #sk-container-id-2 div.sk-parallel-item::before {content: \"\";position: absolute;border-left: 1px solid gray;box-sizing: border-box;top: 0;bottom: 0;left: 50%;z-index: -1;}#sk-container-id-2 div.sk-parallel-item {display: flex;flex-direction: column;z-index: 1;position: relative;background-color: white;}#sk-container-id-2 div.sk-parallel-item:first-child::after {align-self: flex-end;width: 50%;}#sk-container-id-2 div.sk-parallel-item:last-child::after {align-self: flex-start;width: 50%;}#sk-container-id-2 div.sk-parallel-item:only-child::after {width: 0;}#sk-container-id-2 div.sk-dashed-wrapped {border: 1px dashed gray;margin: 0 0.4em 0.5em 0.4em;box-sizing: border-box;padding-bottom: 0.4em;background-color: white;}#sk-container-id-2 div.sk-label label {font-family: monospace;font-weight: bold;display: inline-block;line-height: 1.2em;}#sk-container-id-2 div.sk-label-container {text-align: center;}#sk-container-id-2 div.sk-container {/* jupyter's `normalize.less` sets `[hidden] { display: none; }` but bootstrap.min.css set `[hidden] { display: none !important; }` so we also need the `!important` here to be able to override the default hidden behavior on the sphinx rendered scikit-learn.org. See: https://github.com/scikit-learn/scikit-learn/issues/21755 */display: inline-block !important;position: relative;}#sk-container-id-2 div.sk-text-repr-fallback {display: none;}</style><div id=\"sk-container-id-2\" class=\"sk-top-container\"><div class=\"sk-text-repr-fallback\"><pre>KMeans(n_clusters=2, n_init=30,\n",
       "       random_state=RandomState(MT19937) at 0x7F66B05C5B40)</pre><b>In a Jupyter environment, please rerun this cell to show the HTML representation or trust the notebook. <br />On GitHub, the HTML representation is unable to render, please try loading this page with nbviewer.org.</b></div><div class=\"sk-container\" hidden><div class=\"sk-item\"><div class=\"sk-estimator sk-toggleable\"><input class=\"sk-toggleable__control sk-hidden--visually\" id=\"sk-estimator-id-4\" type=\"checkbox\" checked><label for=\"sk-estimator-id-4\" class=\"sk-toggleable__label sk-toggleable__label-arrow\">KMeans</label><div class=\"sk-toggleable__content\"><pre>KMeans(n_clusters=2, n_init=30,\n",
       "       random_state=RandomState(MT19937) at 0x7F66B05C5B40)</pre></div></div></div></div></div>"
      ],
      "text/plain": [
       "KMeans(n_clusters=2, n_init=30,\n",
       "       random_state=RandomState(MT19937) at 0x7F66B05C5B40)"
      ]
     },
     "execution_count": 25,
     "metadata": {},
     "output_type": "execute_result"
    }
   ],
   "source": [
    "best_model"
   ]
  },
  {
   "cell_type": "code",
   "execution_count": 26,
   "id": "e83d4663-a2e8-4f39-b0a5-15ed7d1003be",
   "metadata": {},
   "outputs": [],
   "source": [
    "groups = best_model.predict(new_X_val)"
   ]
  },
  {
   "cell_type": "code",
   "execution_count": 27,
   "id": "afb95710-1c62-4bee-9924-79ac3af215d7",
   "metadata": {},
   "outputs": [
    {
     "data": {
      "text/plain": [
       "array([0, 1], dtype=int32)"
      ]
     },
     "execution_count": 27,
     "metadata": {},
     "output_type": "execute_result"
    }
   ],
   "source": [
    "np.unique(groups)"
   ]
  },
  {
   "cell_type": "code",
   "execution_count": 28,
   "id": "632e10ee-cf42-4bbc-bc92-2afb2979b36d",
   "metadata": {},
   "outputs": [],
   "source": [
    "cutoffs = []"
   ]
  },
  {
   "cell_type": "code",
   "execution_count": 29,
   "id": "1acb9ece-0bc1-4a5d-a1f8-6ceb5491a641",
   "metadata": {},
   "outputs": [],
   "source": [
    "cutoffs.append(np.quantile(res_val[groups == 0], q=0.95))"
   ]
  },
  {
   "cell_type": "code",
   "execution_count": 30,
   "id": "2ebf394c-b605-4829-a050-6c25d49ac4bd",
   "metadata": {},
   "outputs": [],
   "source": [
    "cutoffs.append(np.quantile(res_val[groups == 1], q=0.95))"
   ]
  },
  {
   "cell_type": "code",
   "execution_count": 31,
   "id": "fd47d2f7-fb8f-4436-ae0d-d1769bd5f3a9",
   "metadata": {},
   "outputs": [],
   "source": [
    "cutoffs = np.array(cutoffs)"
   ]
  },
  {
   "cell_type": "markdown",
   "id": "598ff319-e300-48eb-9ea3-3e2c5fa75c94",
   "metadata": {},
   "source": [
    "## Prediction (explicit)"
   ]
  },
  {
   "cell_type": "code",
   "execution_count": 32,
   "id": "aa2c2534-c7d0-4aad-a4b6-5f3a6e3f902f",
   "metadata": {},
   "outputs": [],
   "source": [
    "y_grid = np.linspace(locluster.min_y, locluster.max_y, 2000)"
   ]
  },
  {
   "cell_type": "code",
   "execution_count": 33,
   "id": "2449baf5-1031-4fe1-8af6-02ea68065b56",
   "metadata": {},
   "outputs": [],
   "source": [
    "interval_list = []"
   ]
  },
  {
   "cell_type": "code",
   "execution_count": 34,
   "id": "fb7543dc-fb80-4f22-8ab7-b09e5b9a031c",
   "metadata": {},
   "outputs": [],
   "source": [
    "scaled_X_test = scaler.transform(qmodel.predict(X_test))"
   ]
  },
  {
   "cell_type": "code",
   "execution_count": 47,
   "id": "13cd5689-280a-45e4-9338-b85bf286fa36",
   "metadata": {},
   "outputs": [],
   "source": [
    "i = 0"
   ]
  },
  {
   "cell_type": "code",
   "execution_count": 36,
   "id": "2d62fab5-eee6-4207-b419-d4e515a6b38b",
   "metadata": {},
   "outputs": [],
   "source": [
    "a = locluster.nc_score.compute(X_test[i,:].reshape(1, -1), y_grid);"
   ]
  },
  {
   "cell_type": "code",
   "execution_count": 37,
   "id": "41b5fbe8-088b-4d58-bab7-98cf103f9655",
   "metadata": {},
   "outputs": [],
   "source": [
    "index = best_model.predict(scaled_X_test[i,:].reshape(1, -1))"
   ]
  },
  {
   "cell_type": "code",
   "execution_count": 38,
   "id": "3349be84-f4d1-4ee8-aecb-1af19007d079",
   "metadata": {},
   "outputs": [
    {
     "data": {
      "text/plain": [
       "array([-0.15345677])"
      ]
     },
     "execution_count": 38,
     "metadata": {},
     "output_type": "execute_result"
    }
   ],
   "source": [
    "cutoffs[index] "
   ]
  },
  {
   "cell_type": "code",
   "execution_count": 39,
   "id": "7f8b1484-ef62-4d5c-b983-31e55c549ddc",
   "metadata": {},
   "outputs": [],
   "source": [
    "b = np.diff((a <= cutoffs[index]).astype(np.int32))"
   ]
  },
  {
   "cell_type": "code",
   "execution_count": 40,
   "id": "be470657-ac75-42c3-a625-2d813a57f979",
   "metadata": {},
   "outputs": [],
   "source": [
    "c = np.where(b != 0)[0]"
   ]
  },
  {
   "cell_type": "code",
   "execution_count": 41,
   "id": "9e526153-4ada-4e35-9fcf-6904f4c4a894",
   "metadata": {},
   "outputs": [
    {
     "data": {
      "text/plain": [
       "array([ 587, 1096])"
      ]
     },
     "execution_count": 41,
     "metadata": {},
     "output_type": "execute_result"
    }
   ],
   "source": [
    "c"
   ]
  },
  {
   "cell_type": "code",
   "execution_count": 42,
   "id": "7c93ecee-db62-4716-bccf-5c88d6d9fa0c",
   "metadata": {},
   "outputs": [
    {
     "data": {
      "text/plain": [
       "(1, -1)"
      ]
     },
     "execution_count": 42,
     "metadata": {},
     "output_type": "execute_result"
    }
   ],
   "source": [
    "b[c[0]], b[c[1]]"
   ]
  },
  {
   "cell_type": "code",
   "execution_count": 43,
   "id": "3880d4c6-0678-41cd-8185-c7aa78e44319",
   "metadata": {},
   "outputs": [
    {
     "data": {
      "text/plain": [
       "array([1, 0])"
      ]
     },
     "execution_count": 43,
     "metadata": {},
     "output_type": "execute_result"
    }
   ],
   "source": [
    "np.tile(np.array([1,0]), c.shape[0] // 2)"
   ]
  },
  {
   "cell_type": "code",
   "execution_count": 44,
   "id": "57d223b0-482e-4063-bf47-4f7726e8d1c4",
   "metadata": {},
   "outputs": [],
   "source": [
    "int_idx = c + np.tile(np.array([1,0]), c.shape[0] // 2)"
   ]
  },
  {
   "cell_type": "code",
   "execution_count": 45,
   "id": "072e915c-b3eb-43a7-9cb2-4a32d59a2f7d",
   "metadata": {},
   "outputs": [
    {
     "data": {
      "text/plain": [
       "array([ 588, 1096])"
      ]
     },
     "execution_count": 45,
     "metadata": {},
     "output_type": "execute_result"
    }
   ],
   "source": [
    "int_idx"
   ]
  },
  {
   "cell_type": "code",
   "execution_count": 46,
   "id": "2c1e2cf1-9cd5-4a3b-ad79-4c5037b556eb",
   "metadata": {},
   "outputs": [
    {
     "data": {
      "text/plain": [
       "array([-3.1974783,  0.8822879])"
      ]
     },
     "execution_count": 46,
     "metadata": {},
     "output_type": "execute_result"
    }
   ],
   "source": [
    "y_grid[int_idx]"
   ]
  },
  {
   "cell_type": "code",
   "execution_count": null,
   "id": "f4fe2544-6941-433d-bb07-f6170835fd41",
   "metadata": {},
   "outputs": [],
   "source": []
  },
  {
   "cell_type": "code",
   "execution_count": null,
   "id": "0d54ac1b-7c31-4f39-8dc5-a27616fbb15b",
   "metadata": {},
   "outputs": [],
   "source": []
  }
 ],
 "metadata": {
  "kernelspec": {
   "display_name": "Python 3 (ipykernel)",
   "language": "python",
   "name": "python3"
  },
  "language_info": {
   "codemirror_mode": {
    "name": "ipython",
    "version": 3
   },
   "file_extension": ".py",
   "mimetype": "text/x-python",
   "name": "python",
   "nbconvert_exporter": "python",
   "pygments_lexer": "ipython3",
   "version": "3.8.13"
  }
 },
 "nbformat": 4,
 "nbformat_minor": 5
}
