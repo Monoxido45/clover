{
 "cells": [
  {
   "cell_type": "markdown",
   "id": "6bbc51ff",
   "metadata": {},
   "source": [
    "# Testing paralelized versus serialized code time"
   ]
  },
  {
   "cell_type": "markdown",
   "id": "4f1fca21",
   "metadata": {},
   "source": [
    "Here we compare the running time of serialized and paralelized monte carlo, and then we profile several steps of our hypothesis testing "
   ]
  },
  {
   "cell_type": "code",
   "execution_count": 1,
   "id": "454796e7",
   "metadata": {},
   "outputs": [],
   "source": [
    "import numpy as np\n",
    "from sklearn.ensemble import RandomForestRegressor, RandomForestClassifier\n",
    "from nonconformist.cp import IcpRegressor\n",
    "from nonconformist.nc import NcFactory\n",
    "from sklearn.model_selection import train_test_split\n",
    "from scipy import stats\n",
    "import os\n",
    "import time\n",
    "\n",
    "# importing our module\n",
    "from lcv.valid_pred_sets import Valid_pred_sets\n",
    "from lcv.valid_pred_sets import LinearQuantileRegression\n",
    "from lcv.valid_pred_sets import GradientBoostingQuantileRegression\n",
    "\n",
    "from simulation import simulation"
   ]
  },
  {
   "cell_type": "markdown",
   "id": "11536eef",
   "metadata": {},
   "source": [
    "First fitting our hypothesis testing object to any kind of simulated data and taking ICP and RF as prediction model and coverage evaluator:"
   ]
  },
  {
   "cell_type": "code",
   "execution_count": 2,
   "id": "01a8a2ed",
   "metadata": {},
   "outputs": [],
   "source": [
    "def split(X, y, test_size = 0.4, calibrate = True, random_seed = 1250):\n",
    "    X_train, X_test, y_train, y_test = train_test_split(X, y,test_size = test_size,\n",
    "                                                        random_state = random_seed)\n",
    "    if calibrate:\n",
    "        X_train, X_calib, y_train, y_calib = train_test_split(X_train, y_train, test_size = 0.25,\n",
    "                                                             random_state = random_seed)\n",
    "        return {\"X_train\":X_train, \"X_calib\": X_calib, \"X_test\" : X_test, \n",
    "                \"y_train\" : y_train, \"y_calib\" : y_calib, \"y_test\": y_test}\n",
    "    else:\n",
    "        return{\"X_train\":X_train,\"X_test\" : X_test, \n",
    "                \"y_train\" : y_train,\"y_test\": y_test}\n",
    "                \n",
    "def prep_hyp_icp(kind = \"homoscedastic\", n = 10000, d = 20, coef = 2, B = 1000, \n",
    "                 random_seed = 1250, sig = 0.05, coverage_evaluator = \"RF\"):\n",
    "    sim_obj = simulation(dim = d, coef = coef)\n",
    "    sim_kind = getattr(sim_obj, kind)\n",
    "    sim_kind(n, random_seed = random_seed)\n",
    "    split_icp = split(sim_obj.X, sim_obj.y)\n",
    "\n",
    "    # model given by simulation quantiles\n",
    "    \n",
    "\n",
    "    model = RandomForestRegressor(random_state = random_seed)\n",
    "    nc = NcFactory.create_nc(model)\n",
    "    icp = IcpRegressor(nc)\n",
    "    icp.fit(split_icp[\"X_train\"], split_icp[\"y_train\"])\n",
    "    icp.calibrate(split_icp[\"X_calib\"], split_icp[\"y_calib\"])\n",
    "    hyp_icp = Valid_pred_sets(icp, sig, coverage_evaluator = coverage_evaluator)\n",
    "    hyp_icp.fit(split_icp[\"X_test\"], split_icp[\"y_test\"], random_seed = random_seed)\n",
    "    return hyp_icp\n",
    "\n",
    "hyp_icp = prep_hyp_icp()"
   ]
  },
  {
   "cell_type": "markdown",
   "id": "757998e9",
   "metadata": {},
   "source": [
    "Testing execution time for homoscedastic data using RF as coverage evaluator and ICP calibrated model, taking $B$ as 1000:"
   ]
  },
  {
   "cell_type": "code",
   "execution_count": 3,
   "id": "36a30f53",
   "metadata": {},
   "outputs": [
    {
     "name": "stdout",
     "output_type": "stream",
     "text": [
      "Serialized code:\n",
      "Time Elapsed:  2268.2713577747345\n"
     ]
    }
   ],
   "source": [
    "start = time.time()\n",
    "print(\"Serialized code:\")\n",
    "res_ser = hyp_icp.monte_carlo_test(B = 1000, random_seed = 1250)\n",
    "res_ser\n",
    "end = time.time() - start\n",
    "print(\"Time Elapsed: \", end)"
   ]
  },
  {
   "cell_type": "markdown",
   "id": "29453288",
   "metadata": {},
   "source": [
    "Verifying serialized test results"
   ]
  },
  {
   "cell_type": "code",
   "execution_count": 4,
   "id": "e5d7b090",
   "metadata": {},
   "outputs": [
    {
     "data": {
      "text/plain": [
       "{'p-value': 0.619, 'Observed statistic': 0.034725}"
      ]
     },
     "execution_count": 4,
     "metadata": {},
     "output_type": "execute_result"
    }
   ],
   "source": [
    "res_ser"
   ]
  },
  {
   "cell_type": "code",
   "execution_count": 5,
   "id": "3eaf1046",
   "metadata": {},
   "outputs": [
    {
     "name": "stdout",
     "output_type": "stream",
     "text": [
      "Paralelized code:\n",
      "Time Elapsed:  659.6085753440857\n"
     ]
    }
   ],
   "source": [
    "start = time.time()\n",
    "print(\"Paralelized code:\")\n",
    "res_par = hyp_icp.monte_carlo_test(B = 1000, random_seed = 1250, par = True)\n",
    "res_par\n",
    "end = time.time() - start\n",
    "print(\"Time Elapsed: \", end)"
   ]
  },
  {
   "cell_type": "code",
   "execution_count": 6,
   "id": "3a08b4a5",
   "metadata": {},
   "outputs": [
    {
     "data": {
      "text/plain": [
       "{'p-value': 0.587, 'Observed statistic': 0.034725}"
      ]
     },
     "execution_count": 6,
     "metadata": {},
     "output_type": "execute_result"
    }
   ],
   "source": [
    "res_par"
   ]
  },
  {
   "cell_type": "markdown",
   "id": "8b5f96ea",
   "metadata": {},
   "source": [
    "Testing nnet coverage evaluator. First preping and tuning the nnet hypothesis object:"
   ]
  },
  {
   "cell_type": "code",
   "execution_count": 3,
   "id": "aee0f694",
   "metadata": {},
   "outputs": [
    {
     "name": "stderr",
     "output_type": "stream",
     "text": [
      "\u001b[32m[I 2022-08-11 22:39:56,223]\u001b[0m A new study created in memory with name: no-name-75c18a68-ff80-4a46-b5bf-65ffd9dfd694\u001b[0m\n",
      "\u001b[32m[I 2022-08-11 22:40:05,932]\u001b[0m Trial 0 finished with value: 0.11644074693322182 and parameters: {'n_layers': 1, 'n_units_l0': 26, 'dropout_l0': 0.2175008215425142, 'optimizer': 'RMSprop', 'lr': 0.005679432815250312}. Best is trial 0 with value: 0.11644074693322182.\u001b[0m\n",
      "\u001b[32m[I 2022-08-11 22:40:12,606]\u001b[0m Trial 1 finished with value: 0.11238567810505629 and parameters: {'n_layers': 4, 'n_units_l0': 47, 'dropout_l0': 0.23032529809825056, 'n_units_l1': 44, 'dropout_l1': 0.4307933982426165, 'n_units_l2': 112, 'dropout_l2': 0.4342109630511539, 'n_units_l3': 102, 'dropout_l3': 0.42679448672765236, 'optimizer': 'RMSprop', 'lr': 0.001665289601082679}. Best is trial 1 with value: 0.11238567810505629.\u001b[0m\n",
      "\u001b[32m[I 2022-08-11 22:40:30,995]\u001b[0m Trial 2 finished with value: 0.1339472010731697 and parameters: {'n_layers': 2, 'n_units_l0': 24, 'dropout_l0': 0.20825592486227384, 'n_units_l1': 4, 'dropout_l1': 0.41068375275811875, 'optimizer': 'SGD', 'lr': 0.006368846702104286}. Best is trial 1 with value: 0.11238567810505629.\u001b[0m\n",
      "\u001b[32m[I 2022-08-11 22:40:45,325]\u001b[0m Trial 3 finished with value: 0.11240388825535774 and parameters: {'n_layers': 4, 'n_units_l0': 21, 'dropout_l0': 0.3560650230158102, 'n_units_l1': 15, 'dropout_l1': 0.3570165753227723, 'n_units_l2': 33, 'dropout_l2': 0.49224327099116816, 'n_units_l3': 67, 'dropout_l3': 0.4851517842916409, 'optimizer': 'Adam', 'lr': 0.0020480869159556917}. Best is trial 1 with value: 0.11238567810505629.\u001b[0m\n",
      "\u001b[32m[I 2022-08-11 22:40:59,161]\u001b[0m Trial 4 finished with value: 0.11269149743020535 and parameters: {'n_layers': 3, 'n_units_l0': 33, 'dropout_l0': 0.3153634716319401, 'n_units_l1': 122, 'dropout_l1': 0.49898745044010595, 'n_units_l2': 85, 'dropout_l2': 0.4567091105393048, 'optimizer': 'Adamax', 'lr': 0.0008549836332287627}. Best is trial 1 with value: 0.11238567810505629.\u001b[0m\n",
      "\u001b[32m[I 2022-08-11 22:40:59,656]\u001b[0m Trial 5 pruned. \u001b[0m\n",
      "\u001b[32m[I 2022-08-11 22:41:00,170]\u001b[0m Trial 6 pruned. \u001b[0m\n",
      "\u001b[32m[I 2022-08-11 22:41:00,593]\u001b[0m Trial 7 pruned. \u001b[0m\n",
      "\u001b[32m[I 2022-08-11 22:41:00,813]\u001b[0m Trial 8 pruned. \u001b[0m\n",
      "\u001b[32m[I 2022-08-11 22:41:08,924]\u001b[0m Trial 9 finished with value: 0.11733832769095898 and parameters: {'n_layers': 4, 'n_units_l0': 60, 'dropout_l0': 0.47059974846320934, 'n_units_l1': 57, 'dropout_l1': 0.422092388679393, 'n_units_l2': 17, 'dropout_l2': 0.3293560256426813, 'n_units_l3': 8, 'dropout_l3': 0.48295772296866174, 'optimizer': 'Adam', 'lr': 0.008462212259619075}. Best is trial 1 with value: 0.11238567810505629.\u001b[0m\n",
      "\u001b[32m[I 2022-08-11 22:41:18,976]\u001b[0m Trial 10 finished with value: 0.11267538741230965 and parameters: {'n_layers': 3, 'n_units_l0': 101, 'dropout_l0': 0.2206226641527621, 'n_units_l1': 88, 'dropout_l1': 0.34444058835428415, 'n_units_l2': 5, 'dropout_l2': 0.4595677688722883, 'optimizer': 'RMSprop', 'lr': 0.0006036197339958883}. Best is trial 1 with value: 0.11238567810505629.\u001b[0m\n",
      "\u001b[32m[I 2022-08-11 22:41:19,196]\u001b[0m Trial 11 pruned. \u001b[0m\n",
      "\u001b[32m[I 2022-08-11 22:41:19,421]\u001b[0m Trial 12 pruned. \u001b[0m\n",
      "\u001b[32m[I 2022-08-11 22:41:19,683]\u001b[0m Trial 13 pruned. \u001b[0m\n",
      "\u001b[32m[I 2022-08-11 22:41:19,904]\u001b[0m Trial 14 pruned. \u001b[0m\n",
      "\u001b[32m[I 2022-08-11 22:41:25,376]\u001b[0m Trial 15 finished with value: 0.1428150311112404 and parameters: {'n_layers': 3, 'n_units_l0': 126, 'dropout_l0': 0.2053829412764147, 'n_units_l1': 87, 'dropout_l1': 0.4231707269329086, 'n_units_l2': 19, 'dropout_l2': 0.3907669988345924, 'optimizer': 'Adam', 'lr': 0.011878501764009865}. Best is trial 1 with value: 0.11238567810505629.\u001b[0m\n",
      "\u001b[32m[I 2022-08-11 22:41:25,602]\u001b[0m Trial 16 pruned. \u001b[0m\n",
      "\u001b[32m[I 2022-08-11 22:41:25,821]\u001b[0m Trial 17 pruned. \u001b[0m\n",
      "\u001b[32m[I 2022-08-11 22:41:26,039]\u001b[0m Trial 18 pruned. \u001b[0m\n",
      "\u001b[32m[I 2022-08-11 22:41:31,977]\u001b[0m Trial 19 finished with value: 0.10670897085219622 and parameters: {'n_layers': 3, 'n_units_l0': 4, 'dropout_l0': 0.4469619597376015, 'n_units_l1': 53, 'dropout_l1': 0.39401296153821674, 'n_units_l2': 79, 'dropout_l2': 0.3731608100049798, 'optimizer': 'RMSprop', 'lr': 0.007428757856651135}. Best is trial 19 with value: 0.10670897085219622.\u001b[0m\n",
      "\u001b[32m[I 2022-08-11 22:41:32,225]\u001b[0m Trial 20 pruned. \u001b[0m\n",
      "\u001b[32m[I 2022-08-11 22:41:32,442]\u001b[0m Trial 21 pruned. \u001b[0m\n",
      "\u001b[32m[I 2022-08-11 22:41:32,674]\u001b[0m Trial 22 pruned. \u001b[0m\n",
      "\u001b[32m[I 2022-08-11 22:41:32,897]\u001b[0m Trial 23 pruned. \u001b[0m\n",
      "\u001b[32m[I 2022-08-11 22:41:33,123]\u001b[0m Trial 24 pruned. \u001b[0m\n",
      "\u001b[32m[I 2022-08-11 22:41:37,959]\u001b[0m Trial 25 finished with value: 0.1526924893260002 and parameters: {'n_layers': 3, 'n_units_l0': 88, 'dropout_l0': 0.38915148818005424, 'n_units_l1': 59, 'dropout_l1': 0.28706364447379973, 'n_units_l2': 62, 'dropout_l2': 0.3949424513466916, 'optimizer': 'RMSprop', 'lr': 0.005798029088917858}. Best is trial 19 with value: 0.10670897085219622.\u001b[0m\n",
      "\u001b[32m[I 2022-08-11 22:41:38,206]\u001b[0m Trial 26 pruned. \u001b[0m\n",
      "\u001b[32m[I 2022-08-11 22:41:38,427]\u001b[0m Trial 27 pruned. \u001b[0m\n",
      "\u001b[32m[I 2022-08-11 22:41:38,653]\u001b[0m Trial 28 pruned. \u001b[0m\n",
      "\u001b[32m[I 2022-08-11 22:41:38,878]\u001b[0m Trial 29 pruned. \u001b[0m\n",
      "\u001b[32m[I 2022-08-11 22:41:39,115]\u001b[0m Trial 30 pruned. \u001b[0m\n",
      "\u001b[32m[I 2022-08-11 22:41:39,365]\u001b[0m Trial 31 pruned. \u001b[0m\n",
      "\u001b[32m[I 2022-08-11 22:41:39,620]\u001b[0m Trial 32 pruned. \u001b[0m\n",
      "\u001b[32m[I 2022-08-11 22:41:39,840]\u001b[0m Trial 33 pruned. \u001b[0m\n",
      "\u001b[32m[I 2022-08-11 22:41:40,068]\u001b[0m Trial 34 pruned. \u001b[0m\n",
      "\u001b[32m[I 2022-08-11 22:41:40,291]\u001b[0m Trial 35 pruned. \u001b[0m\n",
      "\u001b[32m[I 2022-08-11 22:41:40,508]\u001b[0m Trial 36 pruned. \u001b[0m\n",
      "\u001b[32m[I 2022-08-11 22:41:40,723]\u001b[0m Trial 37 pruned. \u001b[0m\n",
      "\u001b[32m[I 2022-08-11 22:41:40,943]\u001b[0m Trial 38 pruned. \u001b[0m\n",
      "\u001b[32m[I 2022-08-11 22:41:41,163]\u001b[0m Trial 39 pruned. \u001b[0m\n",
      "\u001b[32m[I 2022-08-11 22:41:41,413]\u001b[0m Trial 40 pruned. \u001b[0m\n",
      "\u001b[32m[I 2022-08-11 22:41:41,634]\u001b[0m Trial 41 pruned. \u001b[0m\n",
      "\u001b[32m[I 2022-08-11 22:41:41,853]\u001b[0m Trial 42 pruned. \u001b[0m\n",
      "\u001b[32m[I 2022-08-11 22:41:42,080]\u001b[0m Trial 43 pruned. \u001b[0m\n",
      "\u001b[32m[I 2022-08-11 22:41:42,328]\u001b[0m Trial 44 pruned. \u001b[0m\n",
      "\u001b[32m[I 2022-08-11 22:41:42,574]\u001b[0m Trial 45 pruned. \u001b[0m\n",
      "\u001b[32m[I 2022-08-11 22:41:42,804]\u001b[0m Trial 46 pruned. \u001b[0m\n",
      "\u001b[32m[I 2022-08-11 22:41:48,977]\u001b[0m Trial 47 finished with value: 0.1117508914321661 and parameters: {'n_layers': 1, 'n_units_l0': 93, 'dropout_l0': 0.21934206434942236, 'optimizer': 'Adam', 'lr': 0.01305850451175697}. Best is trial 19 with value: 0.10670897085219622.\u001b[0m\n",
      "\u001b[32m[I 2022-08-11 22:41:49,196]\u001b[0m Trial 48 pruned. \u001b[0m\n",
      "\u001b[32m[I 2022-08-11 22:41:49,419]\u001b[0m Trial 49 pruned. \u001b[0m\n",
      "\u001b[32m[I 2022-08-11 22:41:49,636]\u001b[0m Trial 50 pruned. \u001b[0m\n",
      "\u001b[32m[I 2022-08-11 22:41:49,873]\u001b[0m Trial 51 pruned. \u001b[0m\n",
      "\u001b[32m[I 2022-08-11 22:41:50,098]\u001b[0m Trial 52 pruned. \u001b[0m\n",
      "\u001b[32m[I 2022-08-11 22:41:50,313]\u001b[0m Trial 53 pruned. \u001b[0m\n",
      "\u001b[32m[I 2022-08-11 22:41:50,534]\u001b[0m Trial 54 pruned. \u001b[0m\n",
      "\u001b[32m[I 2022-08-11 22:41:50,759]\u001b[0m Trial 55 pruned. \u001b[0m\n",
      "\u001b[32m[I 2022-08-11 22:41:50,993]\u001b[0m Trial 56 pruned. \u001b[0m\n",
      "\u001b[32m[I 2022-08-11 22:41:51,214]\u001b[0m Trial 57 pruned. \u001b[0m\n",
      "\u001b[32m[I 2022-08-11 22:41:51,436]\u001b[0m Trial 58 pruned. \u001b[0m\n",
      "\u001b[32m[I 2022-08-11 22:41:51,866]\u001b[0m Trial 59 pruned. \u001b[0m\n",
      "\u001b[32m[I 2022-08-11 22:41:52,092]\u001b[0m Trial 60 pruned. \u001b[0m\n",
      "\u001b[32m[I 2022-08-11 22:41:52,307]\u001b[0m Trial 61 pruned. \u001b[0m\n",
      "\u001b[32m[I 2022-08-11 22:41:52,529]\u001b[0m Trial 62 pruned. \u001b[0m\n",
      "\u001b[32m[I 2022-08-11 22:41:52,754]\u001b[0m Trial 63 pruned. \u001b[0m\n",
      "\u001b[32m[I 2022-08-11 22:41:52,981]\u001b[0m Trial 64 pruned. \u001b[0m\n",
      "\u001b[32m[I 2022-08-11 22:41:53,224]\u001b[0m Trial 65 pruned. \u001b[0m\n",
      "\u001b[32m[I 2022-08-11 22:41:53,447]\u001b[0m Trial 66 pruned. \u001b[0m\n",
      "\u001b[32m[I 2022-08-11 22:41:53,681]\u001b[0m Trial 67 pruned. \u001b[0m\n",
      "\u001b[32m[I 2022-08-11 22:41:53,914]\u001b[0m Trial 68 pruned. \u001b[0m\n",
      "\u001b[32m[I 2022-08-11 22:41:54,138]\u001b[0m Trial 69 pruned. \u001b[0m\n",
      "\u001b[32m[I 2022-08-11 22:41:54,364]\u001b[0m Trial 70 pruned. \u001b[0m\n",
      "\u001b[32m[I 2022-08-11 22:41:54,587]\u001b[0m Trial 71 pruned. \u001b[0m\n",
      "\u001b[32m[I 2022-08-11 22:41:54,821]\u001b[0m Trial 72 pruned. \u001b[0m\n",
      "\u001b[32m[I 2022-08-11 22:41:55,068]\u001b[0m Trial 73 pruned. \u001b[0m\n",
      "\u001b[32m[I 2022-08-11 22:41:55,291]\u001b[0m Trial 74 pruned. \u001b[0m\n",
      "\u001b[32m[I 2022-08-11 22:41:55,525]\u001b[0m Trial 75 pruned. \u001b[0m\n",
      "\u001b[32m[I 2022-08-11 22:41:55,749]\u001b[0m Trial 76 pruned. \u001b[0m\n",
      "\u001b[32m[I 2022-08-11 22:41:55,979]\u001b[0m Trial 77 pruned. \u001b[0m\n",
      "\u001b[32m[I 2022-08-11 22:41:56,207]\u001b[0m Trial 78 pruned. \u001b[0m\n",
      "\u001b[32m[I 2022-08-11 22:41:56,455]\u001b[0m Trial 79 pruned. \u001b[0m\n",
      "\u001b[32m[I 2022-08-11 22:41:56,675]\u001b[0m Trial 80 pruned. \u001b[0m\n",
      "\u001b[32m[I 2022-08-11 22:41:56,920]\u001b[0m Trial 81 pruned. \u001b[0m\n",
      "\u001b[32m[I 2022-08-11 22:41:57,138]\u001b[0m Trial 82 pruned. \u001b[0m\n",
      "\u001b[32m[I 2022-08-11 22:41:57,386]\u001b[0m Trial 83 pruned. \u001b[0m\n",
      "\u001b[32m[I 2022-08-11 22:41:57,615]\u001b[0m Trial 84 pruned. \u001b[0m\n",
      "\u001b[32m[I 2022-08-11 22:41:57,843]\u001b[0m Trial 85 pruned. \u001b[0m\n",
      "\u001b[32m[I 2022-08-11 22:41:58,068]\u001b[0m Trial 86 pruned. \u001b[0m\n",
      "\u001b[32m[I 2022-08-11 22:41:58,293]\u001b[0m Trial 87 pruned. \u001b[0m\n",
      "\u001b[32m[I 2022-08-11 22:41:58,517]\u001b[0m Trial 88 pruned. \u001b[0m\n",
      "\u001b[32m[I 2022-08-11 22:41:58,791]\u001b[0m Trial 89 pruned. \u001b[0m\n",
      "\u001b[32m[I 2022-08-11 22:42:06,119]\u001b[0m Trial 90 finished with value: 0.12316247262060642 and parameters: {'n_layers': 2, 'n_units_l0': 96, 'dropout_l0': 0.4488690111358136, 'n_units_l1': 73, 'dropout_l1': 0.42176657703321596, 'optimizer': 'Adam', 'lr': 0.02589343742216707}. Best is trial 19 with value: 0.10670897085219622.\u001b[0m\n",
      "\u001b[32m[I 2022-08-11 22:42:06,358]\u001b[0m Trial 91 pruned. \u001b[0m\n",
      "\u001b[32m[I 2022-08-11 22:42:06,587]\u001b[0m Trial 92 pruned. \u001b[0m\n",
      "\u001b[32m[I 2022-08-11 22:42:06,812]\u001b[0m Trial 93 pruned. \u001b[0m\n",
      "\u001b[32m[I 2022-08-11 22:42:07,059]\u001b[0m Trial 94 pruned. \u001b[0m\n",
      "\u001b[32m[I 2022-08-11 22:42:07,279]\u001b[0m Trial 95 pruned. \u001b[0m\n",
      "\u001b[32m[I 2022-08-11 22:42:07,536]\u001b[0m Trial 96 pruned. \u001b[0m\n",
      "\u001b[32m[I 2022-08-11 22:42:07,754]\u001b[0m Trial 97 pruned. \u001b[0m\n",
      "\u001b[32m[I 2022-08-11 22:42:08,000]\u001b[0m Trial 98 pruned. \u001b[0m\n",
      "\u001b[32m[I 2022-08-11 22:42:08,234]\u001b[0m Trial 99 pruned. \u001b[0m\n",
      "\u001b[32m[I 2022-08-11 22:42:08,477]\u001b[0m Trial 100 pruned. \u001b[0m\n",
      "\u001b[32m[I 2022-08-11 22:42:08,700]\u001b[0m Trial 101 pruned. \u001b[0m\n",
      "\u001b[32m[I 2022-08-11 22:42:08,948]\u001b[0m Trial 102 pruned. \u001b[0m\n",
      "\u001b[32m[I 2022-08-11 22:42:09,210]\u001b[0m Trial 103 pruned. \u001b[0m\n",
      "\u001b[32m[I 2022-08-11 22:42:09,428]\u001b[0m Trial 104 pruned. \u001b[0m\n",
      "\u001b[32m[I 2022-08-11 22:42:09,660]\u001b[0m Trial 105 pruned. \u001b[0m\n",
      "\u001b[32m[I 2022-08-11 22:42:09,913]\u001b[0m Trial 106 pruned. \u001b[0m\n",
      "\u001b[32m[I 2022-08-11 22:42:10,144]\u001b[0m Trial 107 pruned. \u001b[0m\n",
      "\u001b[32m[I 2022-08-11 22:42:10,390]\u001b[0m Trial 108 pruned. \u001b[0m\n",
      "\u001b[32m[I 2022-08-11 22:42:10,650]\u001b[0m Trial 109 pruned. \u001b[0m\n",
      "\u001b[32m[I 2022-08-11 22:42:10,892]\u001b[0m Trial 110 pruned. \u001b[0m\n",
      "\u001b[32m[I 2022-08-11 22:42:11,107]\u001b[0m Trial 111 pruned. \u001b[0m\n",
      "\u001b[32m[I 2022-08-11 22:42:11,325]\u001b[0m Trial 112 pruned. \u001b[0m\n",
      "\u001b[32m[I 2022-08-11 22:42:11,584]\u001b[0m Trial 113 pruned. \u001b[0m\n",
      "\u001b[32m[I 2022-08-11 22:42:12,090]\u001b[0m Trial 114 pruned. \u001b[0m\n",
      "\u001b[32m[I 2022-08-11 22:42:12,315]\u001b[0m Trial 115 pruned. \u001b[0m\n",
      "\u001b[32m[I 2022-08-11 22:42:12,536]\u001b[0m Trial 116 pruned. \u001b[0m\n",
      "\u001b[32m[I 2022-08-11 22:42:12,792]\u001b[0m Trial 117 pruned. \u001b[0m\n",
      "\u001b[32m[I 2022-08-11 22:42:13,026]\u001b[0m Trial 118 pruned. \u001b[0m\n",
      "\u001b[32m[I 2022-08-11 22:42:13,255]\u001b[0m Trial 119 pruned. \u001b[0m\n",
      "\u001b[32m[I 2022-08-11 22:42:13,480]\u001b[0m Trial 120 pruned. \u001b[0m\n",
      "\u001b[32m[I 2022-08-11 22:42:13,701]\u001b[0m Trial 121 pruned. \u001b[0m\n",
      "\u001b[32m[I 2022-08-11 22:42:13,940]\u001b[0m Trial 122 pruned. \u001b[0m\n",
      "\u001b[32m[I 2022-08-11 22:42:14,188]\u001b[0m Trial 123 pruned. \u001b[0m\n",
      "\u001b[32m[I 2022-08-11 22:42:14,429]\u001b[0m Trial 124 pruned. \u001b[0m\n",
      "\u001b[32m[I 2022-08-11 22:42:14,660]\u001b[0m Trial 125 pruned. \u001b[0m\n",
      "\u001b[32m[I 2022-08-11 22:42:14,880]\u001b[0m Trial 126 pruned. \u001b[0m\n",
      "\u001b[32m[I 2022-08-11 22:42:15,102]\u001b[0m Trial 127 pruned. \u001b[0m\n",
      "\u001b[32m[I 2022-08-11 22:42:15,337]\u001b[0m Trial 128 pruned. \u001b[0m\n",
      "\u001b[32m[I 2022-08-11 22:42:15,584]\u001b[0m Trial 129 pruned. \u001b[0m\n",
      "\u001b[32m[I 2022-08-11 22:42:15,838]\u001b[0m Trial 130 pruned. \u001b[0m\n",
      "\u001b[32m[I 2022-08-11 22:42:16,062]\u001b[0m Trial 131 pruned. \u001b[0m\n",
      "\u001b[32m[I 2022-08-11 22:42:16,322]\u001b[0m Trial 132 pruned. \u001b[0m\n",
      "\u001b[32m[I 2022-08-11 22:42:16,560]\u001b[0m Trial 133 pruned. \u001b[0m\n",
      "\u001b[32m[I 2022-08-11 22:42:16,810]\u001b[0m Trial 134 pruned. \u001b[0m\n",
      "\u001b[32m[I 2022-08-11 22:42:17,042]\u001b[0m Trial 135 pruned. \u001b[0m\n",
      "\u001b[32m[I 2022-08-11 22:42:17,274]\u001b[0m Trial 136 pruned. \u001b[0m\n",
      "\u001b[32m[I 2022-08-11 22:42:17,502]\u001b[0m Trial 137 pruned. \u001b[0m\n",
      "\u001b[32m[I 2022-08-11 22:42:23,745]\u001b[0m Trial 138 finished with value: 0.109011085703969 and parameters: {'n_layers': 2, 'n_units_l0': 88, 'dropout_l0': 0.36566969231360813, 'n_units_l1': 8, 'dropout_l1': 0.3212051353296566, 'optimizer': 'RMSprop', 'lr': 0.00209484115186391}. Best is trial 19 with value: 0.10670897085219622.\u001b[0m\n",
      "\u001b[32m[I 2022-08-11 22:42:24,005]\u001b[0m Trial 139 pruned. \u001b[0m\n",
      "\u001b[32m[I 2022-08-11 22:42:29,752]\u001b[0m Trial 140 finished with value: 0.11229794565588236 and parameters: {'n_layers': 4, 'n_units_l0': 92, 'dropout_l0': 0.4261149257102046, 'n_units_l1': 83, 'dropout_l1': 0.23902205423697553, 'n_units_l2': 72, 'dropout_l2': 0.350463713484474, 'n_units_l3': 90, 'dropout_l3': 0.3325081011993025, 'optimizer': 'Adam', 'lr': 0.004284656564412919}. Best is trial 19 with value: 0.10670897085219622.\u001b[0m\n",
      "\u001b[32m[I 2022-08-11 22:42:29,975]\u001b[0m Trial 141 pruned. \u001b[0m\n",
      "\u001b[32m[I 2022-08-11 22:42:30,207]\u001b[0m Trial 142 pruned. \u001b[0m\n",
      "\u001b[32m[I 2022-08-11 22:42:30,431]\u001b[0m Trial 143 pruned. \u001b[0m\n",
      "\u001b[32m[I 2022-08-11 22:42:30,649]\u001b[0m Trial 144 pruned. \u001b[0m\n",
      "\u001b[32m[I 2022-08-11 22:42:30,882]\u001b[0m Trial 145 pruned. \u001b[0m\n",
      "\u001b[32m[I 2022-08-11 22:42:31,112]\u001b[0m Trial 146 pruned. \u001b[0m\n",
      "\u001b[32m[I 2022-08-11 22:42:31,547]\u001b[0m Trial 147 pruned. \u001b[0m\n",
      "\u001b[32m[I 2022-08-11 22:42:31,771]\u001b[0m Trial 148 pruned. \u001b[0m\n",
      "\u001b[32m[I 2022-08-11 22:42:32,029]\u001b[0m Trial 149 pruned. \u001b[0m\n"
     ]
    }
   ],
   "source": [
    "hyp_icp_nnet = prep_hyp_icp(coverage_evaluator=\"nnet\")"
   ]
  },
  {
   "cell_type": "markdown",
   "id": "44c64f3e",
   "metadata": {},
   "source": [
    "Serialized version working fine:"
   ]
  },
  {
   "cell_type": "code",
   "execution_count": 8,
   "id": "de74af54",
   "metadata": {},
   "outputs": [
    {
     "name": "stdout",
     "output_type": "stream",
     "text": [
      "Serialized code:\n",
      "Time Elapsed:  8674.781376600266\n"
     ]
    }
   ],
   "source": [
    "start = time.time()\n",
    "print(\"Serialized code:\")\n",
    "res_ser = hyp_icp_nnet.monte_carlo_test(B = 1000, random_seed = 1250)\n",
    "res_ser\n",
    "end = time.time() - start\n",
    "print(\"Time Elapsed: \", end)"
   ]
  },
  {
   "cell_type": "markdown",
   "id": "ba0f11a3",
   "metadata": {},
   "source": [
    "Trying paralelized version:"
   ]
  },
  {
   "cell_type": "code",
   "execution_count": 4,
   "id": "37b2b20b",
   "metadata": {},
   "outputs": [
    {
     "name": "stdout",
     "output_type": "stream",
     "text": [
      "Paralelized code:\n"
     ]
    }
   ],
   "source": [
    "start = time.time()\n",
    "print(\"Paralelized code:\")\n",
    "res_par = hyp_icp_nnet.monte_carlo_test(B = 1000, random_seed = 1250, par = True)\n",
    "res_par\n",
    "end = time.time() - start\n",
    "print(\"Time Elapsed: \", end)"
   ]
  },
  {
   "cell_type": "code",
   "execution_count": null,
   "id": "7c1405fa",
   "metadata": {},
   "outputs": [],
   "source": []
  }
 ],
 "metadata": {
  "kernelspec": {
   "display_name": "Python 3.9.12 ('base')",
   "language": "python",
   "name": "python3"
  },
  "language_info": {
   "codemirror_mode": {
    "name": "ipython",
    "version": 3
   },
   "file_extension": ".py",
   "mimetype": "text/x-python",
   "name": "python",
   "nbconvert_exporter": "python",
   "pygments_lexer": "ipython3",
   "version": "3.9.12"
  },
  "vscode": {
   "interpreter": {
    "hash": "45b37182b14f13c1f58463cb3ebe45768266506e5d5f28e96ec9bac3a7c90225"
   }
  }
 },
 "nbformat": 4,
 "nbformat_minor": 5
}
