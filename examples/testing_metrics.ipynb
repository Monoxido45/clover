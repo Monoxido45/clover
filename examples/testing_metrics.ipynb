{
 "cells": [
  {
   "attachments": {},
   "cell_type": "markdown",
   "metadata": {},
   "source": [
    "# Testing conditional valid metrics for locart"
   ]
  },
  {
   "cell_type": "code",
   "execution_count": 1,
   "metadata": {},
   "outputs": [],
   "source": [
    "import numpy as np\n",
    "from sklearn.ensemble import RandomForestRegressor\n",
    "\n",
    "from lcv.locart import LocartSplit, MondrianRegressionSplit\n",
    "from lcv.scores import RegressionScore\n",
    "from lcv.simulation import simulation\n",
    "from lcv.utils import compute_interval_length, HSIC_correlation, pearson_correlation, wsc_coverage, ILS_coverage, split"
   ]
  },
  {
   "attachments": {},
   "cell_type": "markdown",
   "metadata": {},
   "source": [
    "Generating homoscedastic data just for testing:"
   ]
  },
  {
   "cell_type": "code",
   "execution_count": 2,
   "metadata": {},
   "outputs": [],
   "source": [
    "random_seed = 1250\n",
    "d = 20\n",
    "coef = 2\n",
    "kind = \"homoscedastic\"\n",
    "n = 10000\n",
    "sim_obj = simulation(dim = d, coef = coef)\n",
    "sim_kind = getattr(sim_obj, kind)\n",
    "sim_kind(n, random_seed = random_seed)\n",
    "split_conformal = split(sim_obj.X, sim_obj.y, test_size = 0.5, calibrate = True)"
   ]
  },
  {
   "attachments": {},
   "cell_type": "markdown",
   "metadata": {},
   "source": [
    "Fitting locart to data and testing:"
   ]
  },
  {
   "cell_type": "code",
   "execution_count": 3,
   "metadata": {},
   "outputs": [],
   "source": [
    "locart = LocartSplit(nc_score = RegressionScore, base_model = RandomForestRegressor, \n",
    "alpha = 0.1, split_calib = True)\n",
    "locart.fit(split_conformal[\"X_train\"], split_conformal[\"y_train\"])\n",
    "locart.calib(split_conformal[\"X_calib\"], split_conformal[\"y_calib\"])\n",
    "\n",
    "# predictions\n",
    "pred_locart = locart.predict(split_conformal[\"X_test\"])"
   ]
  },
  {
   "attachments": {},
   "cell_type": "markdown",
   "metadata": {},
   "source": [
    "Fitting Mondrian to comparisson:"
   ]
  },
  {
   "cell_type": "code",
   "execution_count": 4,
   "metadata": {},
   "outputs": [],
   "source": [
    "micp = MondrianRegressionSplit(RandomForestRegressor, alpha = 0.1, k = 10)\n",
    "micp.fit(split_conformal[\"X_train\"], split_conformal[\"y_train\"])\n",
    "micp.calibrate(split_conformal[\"X_test\"], split_conformal[\"y_test\"])\n",
    "\n",
    "# predictions\n",
    "pred_micp = micp.predict(split_conformal[\"X_test\"])"
   ]
  },
  {
   "attachments": {},
   "cell_type": "markdown",
   "metadata": {},
   "source": [
    "## Testing metrics:"
   ]
  },
  {
   "attachments": {},
   "cell_type": "markdown",
   "metadata": {},
   "source": [
    "Testing firstly for homoscedastic data:"
   ]
  },
  {
   "attachments": {},
   "cell_type": "markdown",
   "metadata": {},
   "source": [
    "### Homoscedastic data"
   ]
  },
  {
   "attachments": {},
   "cell_type": "markdown",
   "metadata": {},
   "source": [
    "Correlation:"
   ]
  },
  {
   "cell_type": "code",
   "execution_count": 5,
   "metadata": {},
   "outputs": [
    {
     "name": "stdout",
     "output_type": "stream",
     "text": [
      "Pearson correlation: -0.003156230005196689 \n",
      " HSIC correlation: 9.543091031167827e-10\n"
     ]
    }
   ],
   "source": [
    "# testing both correlations\n",
    "pc_locart = pearson_correlation(pred_locart, split_conformal[\"y_test\"])\n",
    "hsic_locart = HSIC_correlation(pred_locart, split_conformal[\"y_test\"])\n",
    "print(\"Pearson correlation: {} \\n HSIC correlation: {}\".format(pc_locart, hsic_locart))"
   ]
  },
  {
   "cell_type": "code",
   "execution_count": 6,
   "metadata": {},
   "outputs": [
    {
     "name": "stdout",
     "output_type": "stream",
     "text": [
      "Pearson correlation: 0.023968710361934605 \n",
      " HSIC correlation: 1.2051528701519785e-06\n"
     ]
    }
   ],
   "source": [
    "# testing for mondrian\n",
    "pc_micp = pearson_correlation(pred_micp, split_conformal[\"y_test\"])\n",
    "hsic_micp = HSIC_correlation(pred_micp, split_conformal[\"y_test\"])\n",
    "print(\"Pearson correlation: {} \\n HSIC correlation: {}\".format(pc_micp, hsic_micp))"
   ]
  },
  {
   "attachments": {},
   "cell_type": "markdown",
   "metadata": {},
   "source": [
    "Worst slab coverage:"
   ]
  },
  {
   "cell_type": "code",
   "execution_count": 6,
   "metadata": {},
   "outputs": [
    {
     "name": "stdout",
     "output_type": "stream",
     "text": [
      "Delta wsc: 0.0012422535211267238\n"
     ]
    }
   ],
   "source": [
    "wsc_locart = wsc_coverage(split_conformal[\"X_test\"], split_conformal[\"y_test\"], pred_locart)\n",
    "print(\"Delta wsc: {}\".format(wsc_locart))"
   ]
  },
  {
   "cell_type": "code",
   "execution_count": 7,
   "metadata": {},
   "outputs": [
    {
     "name": "stdout",
     "output_type": "stream",
     "text": [
      "Delta wsc: 0.0026422535211267917\n"
     ]
    }
   ],
   "source": [
    "wsc_micp = wsc_coverage(split_conformal[\"X_test\"], split_conformal[\"y_test\"], pred_micp)\n",
    "print(\"Delta wsc: {}\".format(wsc_micp))"
   ]
  },
  {
   "attachments": {},
   "cell_type": "markdown",
   "metadata": {},
   "source": [
    "ILS coverage:"
   ]
  },
  {
   "cell_type": "code",
   "execution_count": 5,
   "metadata": {},
   "outputs": [
    {
     "name": "stdout",
     "output_type": "stream",
     "text": [
      "ILS coverage: -0.020822222222222297\n"
     ]
    }
   ],
   "source": [
    "ils_locart_micp = ILS_coverage(pred_locart, pred_micp, split_conformal[\"y_test\"])\n",
    "print(\"ILS coverage: {}\".format(ils_locart_micp))"
   ]
  },
  {
   "attachments": {},
   "cell_type": "markdown",
   "metadata": {},
   "source": [
    "### Heteroscedastic data"
   ]
  },
  {
   "cell_type": "code",
   "execution_count": 33,
   "metadata": {},
   "outputs": [],
   "source": [
    "random_seed = 1250\n",
    "d = 20\n",
    "coef = 2\n",
    "kind = \"heteroscedastic\"\n",
    "n = 10000\n",
    "sim_obj = simulation(dim = d, coef = coef, hetero_value = 0.25)\n",
    "sim_kind = getattr(sim_obj, kind)\n",
    "sim_kind(n, random_seed = random_seed)\n",
    "split_conformal = split(sim_obj.X, sim_obj.y, test_size = 0.5, calibrate = True)"
   ]
  },
  {
   "attachments": {},
   "cell_type": "markdown",
   "metadata": {},
   "source": [
    "fitting models:"
   ]
  },
  {
   "cell_type": "code",
   "execution_count": 34,
   "metadata": {},
   "outputs": [],
   "source": [
    "locart = LocartSplit(nc_score = RegressionScore, base_model = RandomForestRegressor, \n",
    "alpha = 0.1, split_calib = True)\n",
    "locart.fit(split_conformal[\"X_train\"], split_conformal[\"y_train\"])\n",
    "locart.calib(split_conformal[\"X_calib\"], split_conformal[\"y_calib\"])\n",
    "\n",
    "# predictions\n",
    "pred_locart = locart.predict(split_conformal[\"X_test\"])\n",
    "\n",
    "micp = MondrianRegressionSplit(RandomForestRegressor, alpha = 0.1, k = 10)\n",
    "micp.fit(split_conformal[\"X_train\"], split_conformal[\"y_train\"])\n",
    "micp.calibrate(split_conformal[\"X_test\"], split_conformal[\"y_test\"])\n",
    "\n",
    "# predictions\n",
    "pred_micp = micp.predict(split_conformal[\"X_test\"])"
   ]
  },
  {
   "attachments": {},
   "cell_type": "markdown",
   "metadata": {},
   "source": [
    "Correlation:"
   ]
  },
  {
   "cell_type": "code",
   "execution_count": 35,
   "metadata": {},
   "outputs": [
    {
     "name": "stdout",
     "output_type": "stream",
     "text": [
      "Pearson correlation for locart: 0.004393116555865671 \n",
      " HSIC correlation for locart: 2.6730960642672893e-07\n",
      "Pearson correlation for mondrian: 0.018724455998235096 \n",
      " HSIC correlation for mondrian: 5.40020467283947e-06\n"
     ]
    }
   ],
   "source": [
    "pc_locart = pearson_correlation(pred_locart, split_conformal[\"y_test\"])\n",
    "hsic_locart = HSIC_correlation(pred_locart, split_conformal[\"y_test\"])\n",
    "\n",
    "pc_micp = pearson_correlation(pred_micp, split_conformal[\"y_test\"])\n",
    "hsic_micp = HSIC_correlation(pred_micp, split_conformal[\"y_test\"])\n",
    "\n",
    "print(\"Pearson correlation for locart: {} \\n HSIC correlation for locart: {}\".format(pc_locart, hsic_locart))\n",
    "print(\"Pearson correlation for mondrian: {} \\n HSIC correlation for mondrian: {}\".format(pc_micp, hsic_micp))"
   ]
  },
  {
   "cell_type": "code",
   "execution_count": 36,
   "metadata": {},
   "outputs": [
    {
     "name": "stdout",
     "output_type": "stream",
     "text": [
      "ILS coverage: 0.03744606525911709\n"
     ]
    }
   ],
   "source": [
    "ils_locart_micp = ILS_coverage(pred_locart, pred_micp, split_conformal[\"y_test\"])\n",
    "print(\"ILS coverage: {}\".format(ils_locart_micp))"
   ]
  },
  {
   "cell_type": "code",
   "execution_count": 37,
   "metadata": {},
   "outputs": [
    {
     "name": "stdout",
     "output_type": "stream",
     "text": [
      "Delta wsc: 0.012092447129909423\n",
      "Delta wsc: 0.0004568578553616476\n"
     ]
    }
   ],
   "source": [
    "wsc_locart = wsc_coverage(split_conformal[\"X_test\"], split_conformal[\"y_test\"], pred_locart)\n",
    "print(\"Delta wsc: {}\".format(wsc_locart))\n",
    "\n",
    "wsc_micp = wsc_coverage(split_conformal[\"X_test\"], split_conformal[\"y_test\"], pred_micp)\n",
    "print(\"Delta wsc: {}\".format(wsc_micp))"
   ]
  },
  {
   "attachments": {},
   "cell_type": "markdown",
   "metadata": {},
   "source": [
    "### Asymmetric data"
   ]
  },
  {
   "cell_type": "code",
   "execution_count": 28,
   "metadata": {},
   "outputs": [],
   "source": [
    "random_seed = 1250\n",
    "d = 20\n",
    "coef = 2\n",
    "kind = \"asymmetric\"\n",
    "asym_value = 0.6\n",
    "n = 10000\n",
    "sim_obj = simulation(dim = d, coef = coef, asym_value= asym_value)\n",
    "sim_kind = getattr(sim_obj, kind)\n",
    "sim_kind(n, random_seed = random_seed)\n",
    "split_conformal = split(sim_obj.X, sim_obj.y, test_size = 0.5, calibrate = True)"
   ]
  },
  {
   "attachments": {},
   "cell_type": "markdown",
   "metadata": {},
   "source": [
    "fitting models:"
   ]
  },
  {
   "cell_type": "code",
   "execution_count": 29,
   "metadata": {},
   "outputs": [],
   "source": [
    "locart = LocartSplit(nc_score = RegressionScore, base_model = RandomForestRegressor, \n",
    "alpha = 0.1, split_calib = True)\n",
    "locart.fit(split_conformal[\"X_train\"], split_conformal[\"y_train\"])\n",
    "locart.calib(split_conformal[\"X_calib\"], split_conformal[\"y_calib\"])\n",
    "\n",
    "# predictions\n",
    "pred_locart = locart.predict(split_conformal[\"X_test\"])\n",
    "\n",
    "micp = MondrianRegressionSplit(RandomForestRegressor, alpha = 0.1, k = 10)\n",
    "micp.fit(split_conformal[\"X_train\"], split_conformal[\"y_train\"])\n",
    "micp.calibrate(split_conformal[\"X_test\"], split_conformal[\"y_test\"])\n",
    "\n",
    "# predictions\n",
    "pred_micp = micp.predict(split_conformal[\"X_test\"])"
   ]
  },
  {
   "attachments": {},
   "cell_type": "markdown",
   "metadata": {},
   "source": [
    "Metrics:"
   ]
  },
  {
   "cell_type": "code",
   "execution_count": 30,
   "metadata": {},
   "outputs": [
    {
     "name": "stdout",
     "output_type": "stream",
     "text": [
      "Pearson correlation for locart: 0.004768642314300733 \n",
      " HSIC correlation for locart: 1.1279158363082266e-08\n",
      "Pearson correlation for mondrian: 0.011931114803949651 \n",
      " HSIC correlation for mondrian: 4.508715588638028e-06\n"
     ]
    }
   ],
   "source": [
    "pc_locart = pearson_correlation(pred_locart, split_conformal[\"y_test\"])\n",
    "hsic_locart = HSIC_correlation(pred_locart, split_conformal[\"y_test\"])\n",
    "\n",
    "pc_micp = pearson_correlation(pred_micp, split_conformal[\"y_test\"])\n",
    "hsic_micp = HSIC_correlation(pred_micp, split_conformal[\"y_test\"])\n",
    "\n",
    "print(\"Pearson correlation for locart: {} \\n HSIC correlation for locart: {}\".format(pc_locart, hsic_locart))\n",
    "print(\"Pearson correlation for mondrian: {} \\n HSIC correlation for mondrian: {}\".format(pc_micp, hsic_micp))"
   ]
  },
  {
   "cell_type": "code",
   "execution_count": 31,
   "metadata": {},
   "outputs": [
    {
     "name": "stdout",
     "output_type": "stream",
     "text": [
      "ILS coverage: 0.04042151394422311\n"
     ]
    }
   ],
   "source": [
    "ils_locart_micp = ILS_coverage(pred_locart, pred_micp, split_conformal[\"y_test\"])\n",
    "print(\"ILS coverage: {}\".format(ils_locart_micp))"
   ]
  },
  {
   "cell_type": "code",
   "execution_count": 32,
   "metadata": {},
   "outputs": [
    {
     "name": "stdout",
     "output_type": "stream",
     "text": [
      "Delta wsc: 0.030753233830845716\n",
      "Delta wsc: 0.007800000000000029\n"
     ]
    }
   ],
   "source": [
    "wsc_locart = wsc_coverage(split_conformal[\"X_test\"], split_conformal[\"y_test\"], pred_locart)\n",
    "print(\"Delta wsc: {}\".format(wsc_locart))\n",
    "\n",
    "wsc_micp = wsc_coverage(split_conformal[\"X_test\"], split_conformal[\"y_test\"], pred_micp)\n",
    "print(\"Delta wsc: {}\".format(wsc_micp))"
   ]
  },
  {
   "attachments": {},
   "cell_type": "markdown",
   "metadata": {},
   "source": [
    "### More asymmetric"
   ]
  },
  {
   "cell_type": "code",
   "execution_count": 38,
   "metadata": {},
   "outputs": [],
   "source": [
    "random_seed = 1250\n",
    "d = 20\n",
    "coef = 2\n",
    "kind = \"asymmetric\"\n",
    "asym_value = 1.5\n",
    "n = 10000\n",
    "sim_obj = simulation(dim = d, coef = coef, asym_value= asym_value)\n",
    "sim_kind = getattr(sim_obj, kind)\n",
    "sim_kind(n, random_seed = random_seed)\n",
    "split_conformal = split(sim_obj.X, sim_obj.y, test_size = 0.5, calibrate = True)"
   ]
  },
  {
   "attachments": {},
   "cell_type": "markdown",
   "metadata": {},
   "source": [
    "fitting models:"
   ]
  },
  {
   "cell_type": "code",
   "execution_count": 40,
   "metadata": {},
   "outputs": [],
   "source": [
    "locart = LocartSplit(nc_score = RegressionScore, base_model = RandomForestRegressor, \n",
    "alpha = 0.1, split_calib = True)\n",
    "locart.fit(split_conformal[\"X_train\"], split_conformal[\"y_train\"])\n",
    "locart.calib(split_conformal[\"X_calib\"], split_conformal[\"y_calib\"])\n",
    "\n",
    "# predictions\n",
    "pred_locart = locart.predict(split_conformal[\"X_test\"])\n",
    "\n",
    "micp = MondrianRegressionSplit(RandomForestRegressor, alpha = 0.1, k = 10)\n",
    "micp.fit(split_conformal[\"X_train\"], split_conformal[\"y_train\"])\n",
    "micp.calibrate(split_conformal[\"X_test\"], split_conformal[\"y_test\"])\n",
    "\n",
    "# predictions\n",
    "pred_micp = micp.predict(split_conformal[\"X_test\"])"
   ]
  },
  {
   "attachments": {},
   "cell_type": "markdown",
   "metadata": {},
   "source": [
    "Metrics:"
   ]
  },
  {
   "cell_type": "code",
   "execution_count": 41,
   "metadata": {},
   "outputs": [
    {
     "name": "stdout",
     "output_type": "stream",
     "text": [
      "Pearson correlation for locart: 0.010153643386167801 \n",
      " HSIC correlation for locart: 2.88854195812755e-06\n",
      "Pearson correlation for mondrian: -8.723385916835798e-06 \n",
      " HSIC correlation for mondrian: 4.072958723393719e-06\n"
     ]
    }
   ],
   "source": [
    "pc_locart = pearson_correlation(pred_locart, split_conformal[\"y_test\"])\n",
    "hsic_locart = HSIC_correlation(pred_locart, split_conformal[\"y_test\"])\n",
    "\n",
    "pc_micp = pearson_correlation(pred_micp, split_conformal[\"y_test\"])\n",
    "hsic_micp = HSIC_correlation(pred_micp, split_conformal[\"y_test\"])\n",
    "\n",
    "print(\"Pearson correlation for locart: {} \\n HSIC correlation for locart: {}\".format(pc_locart, hsic_locart))\n",
    "print(\"Pearson correlation for mondrian: {} \\n HSIC correlation for mondrian: {}\".format(pc_micp, hsic_micp))"
   ]
  },
  {
   "cell_type": "code",
   "execution_count": 42,
   "metadata": {},
   "outputs": [
    {
     "name": "stdout",
     "output_type": "stream",
     "text": [
      "ILS coverage: 0.0697280632411067\n"
     ]
    }
   ],
   "source": [
    "ils_locart_micp = ILS_coverage(pred_locart, pred_micp, split_conformal[\"y_test\"])\n",
    "print(\"ILS coverage: {}\".format(ils_locart_micp))"
   ]
  },
  {
   "cell_type": "code",
   "execution_count": 43,
   "metadata": {},
   "outputs": [
    {
     "name": "stdout",
     "output_type": "stream",
     "text": [
      "Delta wsc: 0.001724050632911367\n",
      "Delta wsc: 0.022047852760736175\n"
     ]
    }
   ],
   "source": [
    "wsc_locart = wsc_coverage(split_conformal[\"X_test\"], split_conformal[\"y_test\"], pred_locart)\n",
    "print(\"Delta wsc: {}\".format(wsc_locart))\n",
    "\n",
    "wsc_micp = wsc_coverage(split_conformal[\"X_test\"], split_conformal[\"y_test\"], pred_micp)\n",
    "print(\"Delta wsc: {}\".format(wsc_micp))"
   ]
  },
  {
   "attachments": {},
   "cell_type": "markdown",
   "metadata": {},
   "source": [
    "### Non-corr heteroscedastic"
   ]
  },
  {
   "cell_type": "code",
   "execution_count": 44,
   "metadata": {},
   "outputs": [],
   "source": [
    "random_seed = 1250\n",
    "d = 20\n",
    "coef = 2\n",
    "kind = \"non_cor_heteroscedastic\"\n",
    "hetero_value = 0.25\n",
    "n = 10000\n",
    "sim_obj = simulation(dim = d, coef = coef, hetero_value=hetero_value)\n",
    "sim_kind = getattr(sim_obj, kind)\n",
    "sim_kind(n, random_seed = random_seed)\n",
    "split_conformal = split(sim_obj.X, sim_obj.y, test_size = 0.5, calibrate = True)"
   ]
  },
  {
   "attachments": {},
   "cell_type": "markdown",
   "metadata": {},
   "source": [
    "fitting models:"
   ]
  },
  {
   "cell_type": "code",
   "execution_count": 45,
   "metadata": {},
   "outputs": [],
   "source": [
    "locart = LocartSplit(nc_score = RegressionScore, base_model = RandomForestRegressor, \n",
    "alpha = 0.1, split_calib = True)\n",
    "locart.fit(split_conformal[\"X_train\"], split_conformal[\"y_train\"])\n",
    "locart.calib(split_conformal[\"X_calib\"], split_conformal[\"y_calib\"])\n",
    "\n",
    "# predictions\n",
    "pred_locart = locart.predict(split_conformal[\"X_test\"])\n",
    "\n",
    "micp = MondrianRegressionSplit(RandomForestRegressor, alpha = 0.1, k = 10)\n",
    "micp.fit(split_conformal[\"X_train\"], split_conformal[\"y_train\"])\n",
    "micp.calibrate(split_conformal[\"X_test\"], split_conformal[\"y_test\"])\n",
    "\n",
    "# predictions\n",
    "pred_micp = micp.predict(split_conformal[\"X_test\"])"
   ]
  },
  {
   "attachments": {},
   "cell_type": "markdown",
   "metadata": {},
   "source": [
    "Metrics:"
   ]
  },
  {
   "cell_type": "code",
   "execution_count": 46,
   "metadata": {},
   "outputs": [
    {
     "name": "stdout",
     "output_type": "stream",
     "text": [
      "Pearson correlation for locart: 0.020396862021520204 \n",
      " HSIC correlation for locart: 5.7421433532560255e-06\n",
      "Pearson correlation for mondrian: 0.02689440646500909 \n",
      " HSIC correlation for mondrian: 8.639612502657903e-06\n"
     ]
    }
   ],
   "source": [
    "pc_locart = pearson_correlation(pred_locart, split_conformal[\"y_test\"])\n",
    "hsic_locart = HSIC_correlation(pred_locart, split_conformal[\"y_test\"])\n",
    "\n",
    "pc_micp = pearson_correlation(pred_micp, split_conformal[\"y_test\"])\n",
    "hsic_micp = HSIC_correlation(pred_micp, split_conformal[\"y_test\"])\n",
    "\n",
    "print(\"Pearson correlation for locart: {} \\n HSIC correlation for locart: {}\".format(pc_locart, hsic_locart))\n",
    "print(\"Pearson correlation for mondrian: {} \\n HSIC correlation for mondrian: {}\".format(pc_micp, hsic_micp))"
   ]
  },
  {
   "cell_type": "code",
   "execution_count": 47,
   "metadata": {},
   "outputs": [
    {
     "name": "stdout",
     "output_type": "stream",
     "text": [
      "ILS coverage: -0.03618446601941738\n"
     ]
    }
   ],
   "source": [
    "ils_locart_micp = ILS_coverage(pred_locart, pred_micp, split_conformal[\"y_test\"])\n",
    "print(\"ILS coverage: {}\".format(ils_locart_micp))"
   ]
  },
  {
   "cell_type": "code",
   "execution_count": 48,
   "metadata": {},
   "outputs": [
    {
     "name": "stdout",
     "output_type": "stream",
     "text": [
      "Delta wsc: 0.015239702233250663\n",
      "Delta wsc: 0.008424277456647422\n"
     ]
    }
   ],
   "source": [
    "wsc_locart = wsc_coverage(split_conformal[\"X_test\"], split_conformal[\"y_test\"], pred_locart)\n",
    "print(\"Delta wsc: {}\".format(wsc_locart))\n",
    "\n",
    "wsc_micp = wsc_coverage(split_conformal[\"X_test\"], split_conformal[\"y_test\"], pred_micp)\n",
    "print(\"Delta wsc: {}\".format(wsc_micp))"
   ]
  }
 ],
 "metadata": {
  "kernelspec": {
   "display_name": "base",
   "language": "python",
   "name": "python3"
  },
  "language_info": {
   "codemirror_mode": {
    "name": "ipython",
    "version": 3
   },
   "file_extension": ".py",
   "mimetype": "text/x-python",
   "name": "python",
   "nbconvert_exporter": "python",
   "pygments_lexer": "ipython3",
   "version": "3.9.12"
  },
  "orig_nbformat": 4,
  "vscode": {
   "interpreter": {
    "hash": "45b37182b14f13c1f58463cb3ebe45768266506e5d5f28e96ec9bac3a7c90225"
   }
  }
 },
 "nbformat": 4,
 "nbformat_minor": 2
}
