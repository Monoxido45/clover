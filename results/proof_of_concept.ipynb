{
 "cells": [
  {
   "cell_type": "markdown",
   "id": "6bbc51ff",
   "metadata": {},
   "source": [
    "# Testing p-value uniformity under $H_0$ using real quantiles"
   ]
  },
  {
   "cell_type": "markdown",
   "id": "4f1fca21",
   "metadata": {},
   "source": [
    "Here we test and validate p-value uniformity under $H_0$ holds for the real quantiles:"
   ]
  },
  {
   "cell_type": "code",
   "execution_count": 6,
   "id": "454796e7",
   "metadata": {},
   "outputs": [],
   "source": [
    "# importing libraries\n",
    "from sklearn.datasets import load_boston\n",
    "import numpy as np\n",
    "from sklearn.ensemble import RandomForestRegressor, RandomForestClassifier\n",
    "from nonconformist.cp import IcpRegressor\n",
    "from nonconformist.nc import NcFactory\n",
    "from sklearn.model_selection import train_test_split\n",
    "from scipy import stats\n",
    "import pandas as pd\n",
    "import os\n",
    "import time\n",
    "import seaborn as sns\n",
    "import matplotlib.pyplot as plt\n",
    "%matplotlib inline\n",
    "plt.style.use('ggplot')\n",
    "sns.set_palette(\"Set1\")\n",
    "\n",
    "# original directory\n",
    "path_original = os.getcwd()\n",
    "# importing module\n",
    "from lcv.valid_pred_sets import Valid_pred_sets\n",
    "from lcv.valid_pred_sets import LinearQuantileRegression\n",
    "from lcv.valid_pred_sets import GradientBoostingQuantileRegression\n",
    "\n",
    "# figure path\n",
    "images_dir = \"figures\""
   ]
  },
  {
   "cell_type": "markdown",
   "id": "9b5ac144",
   "metadata": {},
   "source": [
    "To test p-value uniformity, we will apply monte carlo to our test:"
   ]
  },
  {
   "cell_type": "code",
   "execution_count": 12,
   "id": "90f02789",
   "metadata": {},
   "outputs": [],
   "source": [
    "# preparing hypothesis object using real quantiles\n",
    "from simulation import simulation\n",
    "\n",
    "def prep_hyp_real(kind = \"homoscedastic\", n = 6250, d = 20, coef = 2, \n",
    "B = 1000,random_seed = 1250, sig = 0.05, coverage_evaluator = \"RF\"):\n",
    "    sim_obj = simulation(dim = d, coef = coef)\n",
    "    sim_kind = getattr(sim_obj, kind)\n",
    "    sim_kind(n, random_seed = random_seed)\n",
    "    # sim_obj has fit and predict methods\n",
    "    sim_hyp_obj = Valid_pred_sets(sim_obj, sig, coverage_evaluator)\n",
    "    sim_hyp_obj.fit(sim_obj.X, sim_obj.y, random_seed = random_seed)\n",
    "    return sim_hyp_obj"
   ]
  },
  {
   "cell_type": "code",
   "execution_count": 14,
   "id": "151db5a0",
   "metadata": {},
   "outputs": [],
   "source": [
    "# monte carlo function to assess p-value distribution\n",
    "def p_value_dist(p_value_file = \"p_values.npy\",kind = \"homoscedastic\",  n = 6250, d = 20, coef = 2, B_p = 50, B_m = 250, verbose = 1, par = True):\n",
    "    p_values = np.zeros(B_p)\n",
    "    seeds = np.random.randint(1e8, size = B_p)\n",
    "    print(\"Starting tests. \\n\")\n",
    "    for i in range(B_p):\n",
    "        sim_hyp_obj = prep_hyp_real(kind = kind, n = n, d = d, coef = coef, random_seed = seeds[i])\n",
    "        p_values[i] = sim_hyp_obj.monte_carlo_test(B = B_m, random_seed = 1250, par = par)[\"p-value\"]\n",
    "        if (i + 1) % 10 == 0 and verbose == 1:\n",
    "            print(f\"{i + 1} iterations have passed\")\n",
    "    # saving p-values in a pickle object\n",
    "    np.save(f\"pickle_files/{p_value_file}\", p_values)\n",
    "    return p_values"
   ]
  },
  {
   "cell_type": "markdown",
   "id": "6325f58b",
   "metadata": {},
   "source": [
    "Finally, we obtain the p-value distribution by monte carlo of monte carlo (which may be significantly costly), taking $B_p = 50$ p-value samples from our $B_m = 250$ monte carlo hypothesis testing:"
   ]
  },
  {
   "cell_type": "code",
   "execution_count": 17,
   "id": "44b5e71d",
   "metadata": {},
   "outputs": [
    {
     "name": "stdout",
     "output_type": "stream",
     "text": [
      "Obtaining p-value distribution:\n",
      "Starting tests. \n",
      "\n",
      "10 iterations have passed\n",
      "20 iterations have passed\n",
      "30 iterations have passed\n",
      "40 iterations have passed\n",
      "50 iterations have passed\n",
      "60 iterations have passed\n",
      "70 iterations have passed\n",
      "80 iterations have passed\n",
      "90 iterations have passed\n",
      "100 iterations have passed\n",
      "110 iterations have passed\n",
      "120 iterations have passed\n",
      "130 iterations have passed\n",
      "140 iterations have passed\n",
      "150 iterations have passed\n",
      "Time Elapsed:  31230.01305103302\n"
     ]
    }
   ],
   "source": [
    "start = time.time()\n",
    "print(\"Obtaining p-value distribution:\")\n",
    "p_values_homoc = p_value_dist(B_p = 150)\n",
    "end = time.time() - start\n",
    "print(\"Time Elapsed: \", end)"
   ]
  },
  {
   "cell_type": "code",
   "execution_count": 18,
   "id": "2dd7efa0",
   "metadata": {},
   "outputs": [
    {
     "data": {
      "image/png": "[encoded data removed]",
      "text/plain": [
       "<Figure size 432x288 with 1 Axes>"
      ]
     },
     "metadata": {},
     "output_type": "display_data"
    }
   ],
   "source": [
    "# function that plots p-values and test uniformity using ks test\n",
    "def test_unif(p_values, figname = \"hist_unif.pdf\"):\n",
    "    # testing\n",
    "    test_res = stats.kstest(p_values, stats.uniform.cdf)\n",
    "\n",
    "    # plotting\n",
    "    plt.figure(figsize = (8, 6))\n",
    "    plt.hist(p_values, density = True)\n",
    "    plt.xlabel(\"P-values\")\n",
    "    plt.ylabel(\"Density\")\n",
    "    plt.savefig(f\"{images_dir}/{figname}\")\n",
    "    plt.show()\n",
    "\n",
    "    return test_res\n",
    "\n",
    "if 'p_values_homoc' in locals():\n",
    "    res = test_unif(p_values_homoc, figname = \"rf_homoc_proof_of_concept.pdf\")\n",
    "else:\n",
    "    res = test_unif(np.load(\"pickle_files/p_values.npy\"), figname = \"rf_homoc_proof_of_concept.pdf\")"
   ]
  },
  {
   "cell_type": "markdown",
   "id": "992f98f9",
   "metadata": {},
   "source": [
    "Testing results:"
   ]
  },
  {
   "cell_type": "code",
   "execution_count": null,
   "id": "0ac8f732",
   "metadata": {},
   "outputs": [],
   "source": [
    "res"
   ]
  }
 ],
 "metadata": {
  "kernelspec": {
   "display_name": "Python 3.9.12 ('base')",
   "language": "python",
   "name": "python3"
  },
  "language_info": {
   "codemirror_mode": {
    "name": "ipython",
    "version": 3
   },
   "file_extension": ".py",
   "mimetype": "text/x-python",
   "name": "python",
   "nbconvert_exporter": "python",
   "pygments_lexer": "ipython3",
   "version": "3.9.12"
  },
  "vscode": {
   "interpreter": {
    "hash": "45b37182b14f13c1f58463cb3ebe45768266506e5d5f28e96ec9bac3a7c90225"
   }
  }
 },
 "nbformat": 4,
 "nbformat_minor": 5
}
