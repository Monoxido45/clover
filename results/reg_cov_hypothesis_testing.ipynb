{
 "cells": [
  {
   "cell_type": "markdown",
   "id": "3ac0deec",
   "metadata": {},
   "source": [
    "## First coverage tests\n",
    "\n",
    "We will initially make simple coverage tests in simple examples to see how our proposed test is doing"
   ]
  },
  {
   "cell_type": "code",
   "execution_count": 1,
   "id": "157fbe45",
   "metadata": {},
   "outputs": [],
   "source": [
    "# importing libraries\n",
    "from sklearn.datasets import load_boston\n",
    "import numpy as np\n",
    "from sklearn.ensemble import RandomForestRegressor\n",
    "from nonconformist.cp import IcpRegressor\n",
    "from nonconformist.nc import NcFactory\n",
    "from sklearn.model_selection import train_test_split\n",
    "\n",
    "boston = load_boston()\n",
    "idx = np.random.permutation(boston.target.size)\n",
    "\n",
    "# Divide the data into proper training set, calibration set and test set\n",
    "idx_train, idx_cal, idx_test = idx[:300], idx[300:399], idx[399:]\n",
    "\n",
    "model = RandomForestRegressor()\t# Create the underlying model\n",
    "nc = NcFactory.create_nc(model)\t# Create a default nonconformity function\n",
    "icp = IcpRegressor(nc)\t\t\t# Create an inductive conformal regressor\n",
    "\n",
    "# Fit the ICP using the proper training set\n",
    "icp.fit(boston.data[idx_train, :], boston.target[idx_train])\n",
    "\n",
    "# Calibrate the ICP using the calibration set\n",
    "icp.calibrate(boston.data[idx_cal, :], boston.target[idx_cal])"
   ]
  },
  {
   "cell_type": "code",
   "execution_count": 2,
   "id": "866ab15f",
   "metadata": {},
   "outputs": [
    {
     "data": {
      "text/plain": [
       "(506, 13)"
      ]
     },
     "execution_count": 2,
     "metadata": {},
     "output_type": "execute_result"
    }
   ],
   "source": [
    "boston.data.shape"
   ]
  },
  {
   "cell_type": "markdown",
   "id": "550288fa",
   "metadata": {},
   "source": [
    "Creating our hypothesis object:"
   ]
  },
  {
   "cell_type": "code",
   "execution_count": 3,
   "id": "c1b912f3",
   "metadata": {},
   "outputs": [],
   "source": [
    "import os\n",
    "os.chdir(\"/home/kuben/estatistica_UFSCAR/Doutorado/lcv\")"
   ]
  },
  {
   "cell_type": "code",
   "execution_count": 4,
   "id": "4e676e2d",
   "metadata": {},
   "outputs": [],
   "source": [
    "from lcv.valid_pred_sets import Valid_pred_sets\n",
    "# hypothesis object\n",
    "hyp_obj = Valid_pred_sets(icp, 0.05)"
   ]
  },
  {
   "cell_type": "code",
   "execution_count": 5,
   "id": "101e8460",
   "metadata": {},
   "outputs": [
    {
     "data": {
      "text/plain": [
       "Valid_pred_sets(alpha=0.05,\n",
       "                conf=IcpRegressor(condition=<function BaseIcp.__init__.<locals>.<lambda> at 0x7f10a028f820>,\n",
       "                                  nc_function=RegressorNc(err_func=<nonconformist.nc.AbsErrorErrFunc object at 0x7f10d06cf490>,\n",
       "                                                          model=RegressorAdapter(fit_params={},\n",
       "                                                                                 model=RandomForestRegressor()))))"
      ]
     },
     "execution_count": 5,
     "metadata": {},
     "output_type": "execute_result"
    }
   ],
   "source": [
    "# fitting and testing\n",
    "hyp_obj.fit(boston.data[idx_test, :], boston.target[idx_test])"
   ]
  },
  {
   "cell_type": "code",
   "execution_count": 6,
   "id": "c4fc0f19",
   "metadata": {},
   "outputs": [
    {
     "data": {
      "text/plain": [
       "0.0031209302325581403"
      ]
     },
     "execution_count": 6,
     "metadata": {},
     "output_type": "execute_result"
    }
   ],
   "source": [
    "hyp_obj.test(0.05)"
   ]
  }
 ],
 "metadata": {
  "kernelspec": {
   "display_name": "Python 3",
   "language": "python",
   "name": "python3"
  },
  "language_info": {
   "codemirror_mode": {
    "name": "ipython",
    "version": 3
   },
   "file_extension": ".py",
   "mimetype": "text/x-python",
   "name": "python",
   "nbconvert_exporter": "python",
   "pygments_lexer": "ipython3",
   "version": "3.8.8"
  }
 },
 "nbformat": 4,
 "nbformat_minor": 5
}
